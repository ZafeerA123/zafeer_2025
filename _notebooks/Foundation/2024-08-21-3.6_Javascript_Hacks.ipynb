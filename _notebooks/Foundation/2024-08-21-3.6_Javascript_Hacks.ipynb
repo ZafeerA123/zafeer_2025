{
 "cells": [
  {
   "cell_type": "markdown",
   "metadata": {},
   "source": [
    "---\n",
    "layout: post\n",
    "title: Javascript 3.6 Hacks Conditionals in Javascript.\n",
    "description:  Hack for Lesson 3.6 Javascript \n",
    "type: issues \n",
    "comments: true\n",
    "permalink: Javascript_Hacks_3_6\n",
    "---"
   ]
  },
  {
   "cell_type": "markdown",
   "metadata": {},
   "source": [
    "# Popcorn Hack 1"
   ]
  },
  {
   "cell_type": "code",
   "execution_count": null,
   "metadata": {},
   "outputs": [
    {
     "name": "stdout",
     "output_type": "stream",
     "text": [
      "You scored exactly 50.\n"
     ]
    },
    {
     "data": {
      "text/plain": [
       "undefined"
      ]
     },
     "execution_count": 1,
     "metadata": {},
     "output_type": "execute_result"
    }
   ],
   "source": [
    "let score = 50;\n",
    "\n",
    "if (score >= 60) {\n",
    "    console.log(\"You passed!\");\n",
    "} else if (score === 50) {\n",
    "    console.log(\"You scored exactly 50.\");\n",
    "} else {\n",
    "    console.log(\"You failed!\");\n",
    "}\n"
   ]
  },
  {
   "cell_type": "markdown",
   "metadata": {},
   "source": [
    "# Popcorn Hack 2"
   ]
  },
  {
   "cell_type": "code",
   "execution_count": 1,
   "metadata": {},
   "outputs": [
    {
     "name": "stdout",
     "output_type": "stream",
     "text": [
      "Your score is exactly 50!\n"
     ]
    },
    {
     "data": {
      "text/plain": [
       "undefined"
      ]
     },
     "execution_count": 1,
     "metadata": {},
     "output_type": "execute_result"
    }
   ],
   "source": [
    "let score = 50;\n",
    "\n",
    "if (score > 60) {\n",
    "    console.log(\"You passed!\");\n",
    "} else if (score === 50) {\n",
    "    console.log(\"Your score is exactly 50!\");\n",
    "} else {\n",
    "    console.log(\"You failed!\");\n",
    "}\n"
   ]
  },
  {
   "cell_type": "markdown",
   "metadata": {},
   "source": [
    "# Popcorn Hack 3"
   ]
  },
  {
   "cell_type": "code",
   "execution_count": 3,
   "metadata": {},
   "outputs": [
    {
     "name": "stdout",
     "output_type": "stream",
     "text": [
      "Grade: C\n"
     ]
    },
    {
     "data": {
      "text/plain": [
       "undefined"
      ]
     },
     "execution_count": 3,
     "metadata": {},
     "output_type": "execute_result"
    }
   ],
   "source": [
    "let score2 = 75;  // Use a different name\n",
    "\n",
    "if (score2 >= 90) {\n",
    "    console.log(\"Grade: A\");\n",
    "} else if (score2 >= 80) {\n",
    "    console.log(\"Grade: B\");\n",
    "} else if (score2 >= 70) {\n",
    "    console.log(\"Grade: C\");\n",
    "} else if (score2 >= 60) {\n",
    "    console.log(\"Grade: D\");\n",
    "} else {\n",
    "    console.log(\"Grade: F\");\n",
    "}\n"
   ]
  },
  {
   "cell_type": "markdown",
   "metadata": {},
   "source": [
    "# Hack 1: Check Voting Eligibility\n",
    "Description: This hack checks if a person is eligible to vote based on their age.\n",
    "\n",
    "Define a function named checkVotingEligibility that takes one parameter called age.\n",
    "Inside the function, use an if statement to check if the age is 18 or older.\n",
    "Return the message \"You are eligible to vote!\" if true; otherwise, return \"You are not eligible to vote yet.\".\n",
    "Call the function with different age values to test your work"
   ]
  },
  {
   "cell_type": "code",
   "execution_count": 6,
   "metadata": {},
   "outputs": [
    {
     "name": "stdout",
     "output_type": "stream",
     "text": [
      "You are eligible to vote!\n",
      "You are not eligible to vote yet.\n",
      "You are eligible to vote!\n",
      "You are not eligible to vote yet.\n"
     ]
    },
    {
     "data": {
      "text/plain": [
       "undefined"
      ]
     },
     "execution_count": 6,
     "metadata": {},
     "output_type": "execute_result"
    }
   ],
   "source": [
    "function checkVotingEligibility1(age1) {\n",
    "    // Check if the age is 18 or older\n",
    "    if (age1 >= 18) {\n",
    "        return \"You are eligible to vote!\";\n",
    "    } else {\n",
    "        return \"You are not eligible to vote yet.\";\n",
    "    }\n",
    "}\n",
    "\n",
    "// Testing the function with different age values\n",
    "console.log(checkVotingEligibility1(20)); \n",
    "console.log(checkVotingEligibility1(17)); \n",
    "console.log(checkVotingEligibility1(18)); \n",
    "console.log(checkVotingEligibility1(15)); \n"
   ]
  },
  {
   "cell_type": "markdown",
   "metadata": {},
   "source": [
    "# Hack 2: Grade Calculator\n",
    "Description: This hack assigns a letter grade based on a numerical score.\n",
    "\n",
    "Define a function named getGrade that takes one parameter called score.\n",
    "Use if...else if...else statements to determine the letter grade based on the score:\n",
    "Return \"Grade: A\" for scores 90 and above.\n",
    "Return \"Grade: B\" for scores between 80 and 89.\n",
    "Return \"Grade: C\" for scores between 70 and 79.\n",
    "Return \"Grade: F\" for scores below 70.\n",
    "Call the function with different scores to test your work."
   ]
  },
  {
   "cell_type": "code",
   "execution_count": 5,
   "metadata": {},
   "outputs": [
    {
     "name": "stdout",
     "output_type": "stream",
     "text": [
      "Grade: A\n",
      "Grade: B\n",
      "Grade: C\n",
      "Grade: F\n",
      "Grade: C\n"
     ]
    },
    {
     "data": {
      "text/plain": [
       "undefined"
      ]
     },
     "execution_count": 5,
     "metadata": {},
     "output_type": "execute_result"
    }
   ],
   "source": [
    "function getGrade(score3) {\n",
    "    // Determine the letter grade based on the score\n",
    "    if (score3 >= 90) {\n",
    "        return \"Grade: A\";\n",
    "    } else if (score3 >= 80) {\n",
    "        return \"Grade: B\";\n",
    "    } else if (score3 >= 70) {\n",
    "        return \"Grade: C\";\n",
    "    } else {\n",
    "        return \"Grade: F\";\n",
    "    }\n",
    "}\n",
    "\n",
    "// Testing the function with different scores\n",
    "console.log(getGrade(95)); \n",
    "console.log(getGrade(85)); \n",
    "console.log(getGrade(75)); \n",
    "console.log(getGrade(65)); \n",
    "console.log(getGrade(70)); \n"
   ]
  },
  {
   "cell_type": "markdown",
   "metadata": {},
   "source": [
    "# Hack 3: Temperature Converter\n",
    "Description: This hack converts temperatures between Celsius and Fahrenheit.\n",
    "\n",
    "Define a function named convertTemperature that takes two parameters: value (the temperature) and scale (either “C” or “F”).\n",
    "Use an if statement to check the scale:\n",
    "If it’s “C”, convert the temperature to Fahrenheit using the formula (value * 9/5) + 32 and return the result with \"°F\".\n",
    "If it’s “F”, convert to Celsius using (value - 32) * 5/9 and return the result with \"°C\".\n",
    "If the scale is neither, return an error message.\n",
    "Test the function with different values and scales to check your work"
   ]
  },
  {
   "cell_type": "code",
   "execution_count": 7,
   "metadata": {},
   "outputs": [
    {
     "name": "stdout",
     "output_type": "stream",
     "text": [
      "212°F\n",
      "0°C\n",
      "32°F\n",
      "100°C\n",
      "Error: Scale must be 'C' or 'F'.\n"
     ]
    },
    {
     "data": {
      "text/plain": [
       "undefined"
      ]
     },
     "execution_count": 7,
     "metadata": {},
     "output_type": "execute_result"
    }
   ],
   "source": [
    "function convertTemperature(value, scale) {\n",
    "    // Check the scale and convert the temperature accordingly\n",
    "    if (scale === \"C\") {\n",
    "        // Convert Celsius to Fahrenheit\n",
    "        const fahrenheit = (value * 9 / 5) + 32;\n",
    "        return fahrenheit + \"°F\";\n",
    "    } else if (scale === \"F\") {\n",
    "        // Convert Fahrenheit to Celsius\n",
    "        const celsius = (value - 32) * 5 / 9;\n",
    "        return celsius + \"°C\";\n",
    "    } else {\n",
    "        // Return an error message for invalid scale\n",
    "        return \"Error: Scale must be 'C' or 'F'.\";\n",
    "    }\n",
    "}\n",
    "\n",
    "// Testing the function with different values and scales\n",
    "console.log(convertTemperature(100, \"C\")); \n",
    "console.log(convertTemperature(32, \"F\"));  \n",
    "console.log(convertTemperature(0, \"C\"));   \n",
    "console.log(convertTemperature(212, \"F\")); \n",
    "console.log(convertTemperature(45, \"K\"));  \n"
   ]
  }
 ],
 "metadata": {
  "kernelspec": {
   "display_name": "JavaScript (Node.js)",
   "language": "javascript",
   "name": "javascript"
  },
  "language_info": {
   "file_extension": ".js",
   "mimetype": "application/javascript",
   "name": "javascript",
   "version": "18.19.1"
  }
 },
 "nbformat": 4,
 "nbformat_minor": 2
}
