{
 "cells": [
  {
   "cell_type": "markdown",
   "metadata": {},
   "source": [
    "---\n",
    "layout: post\n",
    "title: Hacks 3.5 Boolean Hacks\n",
    "description:  Hack Lesson 3.5 python boolean hacks\n",
    "type: issues \n",
    "comments: true\n",
    "permalink: Python_Hacks_3_5\n",
    "---"
   ]
  },
  {
   "cell_type": "markdown",
   "metadata": {},
   "source": [
    "## Popcorn Hacks"
   ]
  },
  {
   "cell_type": "code",
   "execution_count": 2,
   "metadata": {},
   "outputs": [
    {
     "name": "stdout",
     "output_type": "stream",
     "text": [
      "The number is negative.\n",
      "The number is non-negative.\n",
      "The number is non-negative.\n"
     ]
    }
   ],
   "source": [
    "def evaluate_number(num):\n",
    "    # Check if the number is less than 0\n",
    "    if num < 0:\n",
    "        print(\"The number is negative.\")\n",
    "    else:\n",
    "        print(\"The number is non-negative.\")\n",
    "\n",
    "# Example \n",
    "evaluate_number(-5) \n",
    "evaluate_number(0)   \n",
    "evaluate_number(10)  \n"
   ]
  },
  {
   "cell_type": "code",
   "execution_count": 3,
   "metadata": {},
   "outputs": [
    {
     "name": "stdout",
     "output_type": "stream",
     "text": [
      "The student passed both subjects.\n",
      "The student did not pass both subjects.\n"
     ]
    }
   ],
   "source": [
    "def check_scores(score1, score2):\n",
    "    # Check if both scores are at least 70\n",
    "    if score1 >= 70 and score2 >= 70:\n",
    "        print(\"The student passed both subjects.\")\n",
    "    else:\n",
    "        print(\"The student did not pass both subjects.\")\n",
    "\n",
    "# Example usage\n",
    "check_scores(75, 80)  \n",
    "check_scores(50, 90)  \n"
   ]
  },
  {
   "cell_type": "code",
   "execution_count": 4,
   "metadata": {},
   "outputs": [
    {
     "name": "stdout",
     "output_type": "stream",
     "text": [
      "a is a vowel.\n",
      "b is not a vowel.\n",
      "e is a vowel.\n",
      "z is not a vowel.\n"
     ]
    }
   ],
   "source": [
    "def check_vowel(char):\n",
    "    if char in 'aeiou':\n",
    "        print(f\"{char} is a vowel.\")\n",
    "    else:\n",
    "        print(f\"{char} is not a vowel.\")\n",
    "\n",
    "# Example usage\n",
    "check_vowel('a') \n",
    "check_vowel('b')  \n",
    "check_vowel('e')  \n",
    "check_vowel('z') \n"
   ]
  },
  {
   "cell_type": "markdown",
   "metadata": {},
   "source": [
    "# Homework Hacks"
   ]
  },
  {
   "cell_type": "code",
   "execution_count": 5,
   "metadata": {},
   "outputs": [
    {
     "name": "stdout",
     "output_type": "stream",
     "text": [
      "A\tB\tA AND B\n",
      "--------------------\n",
      "True\tTrue\tTrue\n",
      "True\tFalse\tFalse\n",
      "False\tTrue\tFalse\n",
      "False\tFalse\tFalse\n"
     ]
    }
   ],
   "source": [
    "def truth_table():\n",
    "    print(\"A\\tB\\tA AND B\")  \n",
    "    print(\"--------------------\") # This is the header and divider of the table\n",
    "    \n",
    "    for A in [True, False]: \n",
    "        for B in [True, False]:  \n",
    "            result = A and B  # Evaluate A AND B\n",
    "            print(f\"{A}\\t{B}\\t{result}\")  # Print the row of the truth table\n",
    "\n",
    "# Call the function to display the truth table\n",
    "truth_table()\n"
   ]
  },
  {
   "cell_type": "code",
   "execution_count": 6,
   "metadata": {},
   "outputs": [
    {
     "name": "stdout",
     "output_type": "stream",
     "text": [
      "Welcome to the De Morgan's Law Game!\n",
      "Answer the following questions with 'yes' or 'no'.\n",
      "The final answer based on De Morgan's Law is: no\n"
     ]
    }
   ],
   "source": [
    "def play_game():\n",
    "    print(\"Welcome to the De Morgan's Law Game!\")\n",
    "    print(\"Answer the following questions with 'yes' or 'no'.\")\n",
    "\n",
    "    # Ask the first question\n",
    "    answer1 = input(\"Is the sky blue? \").strip().lower()\n",
    "    # Ask the second question\n",
    "    answer2 = input(\"Is water wet? \").strip().lower()\n",
    "\n",
    "    # Apply De Morgan's Law to derive the result\n",
    "    if answer1 == \"yes\" and answer2 == \"yes\":\n",
    "        result = \"yes\"  # Both are true\n",
    "    elif answer1 == \"no\" and answer2 == \"no\":\n",
    "        result = \"no\"  # Both are false\n",
    "    else:\n",
    "        # Mixed answers: apply De Morgan's Law\n",
    "        if answer1 == \"no\" and answer2 == \"yes\":\n",
    "            result = \"no\"  # equivalent to NOT (A AND B)\n",
    "        else:  # answer1 == \"yes\" and answer2 == \"no\"\n",
    "            result = \"no\"  # equivalent to NOT (A AND B)\n",
    "\n",
    "    # Output the result\n",
    "    print(f\"The final answer based on De Morgan's Law is: {result}\")\n",
    "\n",
    "# Start the game\n",
    "play_game()\n"
   ]
  }
 ],
 "metadata": {
  "kernelspec": {
   "display_name": "venv",
   "language": "python",
   "name": "python3"
  },
  "language_info": {
   "codemirror_mode": {
    "name": "ipython",
    "version": 3
   },
   "file_extension": ".py",
   "mimetype": "text/x-python",
   "name": "python",
   "nbconvert_exporter": "python",
   "pygments_lexer": "ipython3",
   "version": "3.12.3"
  }
 },
 "nbformat": 4,
 "nbformat_minor": 2
}
