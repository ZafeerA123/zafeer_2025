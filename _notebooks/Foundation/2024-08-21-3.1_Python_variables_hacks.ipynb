{
 "cells": [
  {
   "cell_type": "markdown",
   "metadata": {},
   "source": [
    "---\n",
    "layout: post\n",
    "title: Python Hacks 3.1 Variables\n",
    "description:  Hacks for lesson 3.1 Python\n",
    "type: issues \n",
    "comments: true\n",
    "permalink: Python_Hacks_3_1\n",
    "---"
   ]
  },
  {
   "cell_type": "markdown",
   "metadata": {},
   "source": [
    "# Popcorn Hack 1"
   ]
  },
  {
   "cell_type": "code",
   "execution_count": 1,
   "metadata": {},
   "outputs": [
    {
     "name": "stdout",
     "output_type": "stream",
     "text": [
      "Zafeer James Noah\n"
     ]
    }
   ],
   "source": [
    "Me = \"Zafeer\"\n",
    "MemberOne = \"James\"\n",
    "Membertwo = \"Noah\"\n",
    "\n",
    "print(Me, MemberOne, Membertwo)"
   ]
  },
  {
   "cell_type": "markdown",
   "metadata": {},
   "source": [
    "# Popcorn Hack 2"
   ]
  },
  {
   "cell_type": "code",
   "execution_count": 2,
   "metadata": {},
   "outputs": [
    {
     "name": "stdout",
     "output_type": "stream",
     "text": [
      "Concatenation\n",
      "Example 1: The fruit is a Apple, it is Red, and it tastes Sweet. We have 10 in stock.\n",
      "\n",
      "F-strings\n",
      "Example 2: The fruit is a Apple, it is Red, and it tastes Sweet. We have 10 in stock.\n",
      "\n",
      "Separate the variable in the print statement\n",
      "Example 3: The fruit is a Apple, it is Red, and it tastes Sweet. We have 10 in stock.\n"
     ]
    }
   ],
   "source": [
    "# Dictionary definition\n",
    "fruits_info = {\n",
    "    \"name\": \"Apple\",\n",
    "    \"color\": \"Red\",\n",
    "    \"taste\": \"Sweet\",\n",
    "    \"quantity\": 10\n",
    "}\n",
    "\n",
    "# Concatenation\n",
    "print(\"Concatenation\")\n",
    "print(\"Example 1: The fruit is a \" + fruits_info[\"name\"] + \", it is \" + fruits_info[\"color\"] + \", and it tastes \" + fruits_info[\"taste\"] + \". We have \" + str(fruits_info[\"quantity\"]) + \" in stock.\")\n",
    "\n",
    "print()\n",
    "# F-strings\n",
    "print(\"F-strings\")\n",
    "print(f\"Example 2: The fruit is a {fruits_info['name']}, it is {fruits_info['color']}, and it tastes {fruits_info['taste']}. We have {fruits_info['quantity']} in stock.\")\n",
    "\n",
    "print()\n",
    "# Separate the variable in the print statement\n",
    "print(\"Separate the variable in the print statement\")\n",
    "print(\"Example 3:\", \"The fruit is a\", fruits_info[\"name\"] + \", it is\", fruits_info[\"color\"] + \", and it tastes\", fruits_info[\"taste\"] + \".\", \"We have\", fruits_info[\"quantity\"], \"in stock.\")\n"
   ]
  }
 ],
 "metadata": {
  "kernelspec": {
   "display_name": "venv",
   "language": "python",
   "name": "python3"
  },
  "language_info": {
   "codemirror_mode": {
    "name": "ipython",
    "version": 3
   },
   "file_extension": ".py",
   "mimetype": "text/x-python",
   "name": "python",
   "nbconvert_exporter": "python",
   "pygments_lexer": "ipython3",
   "version": "3.12.3"
  }
 },
 "nbformat": 4,
 "nbformat_minor": 2
}
