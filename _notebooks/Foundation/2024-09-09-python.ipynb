{
 "cells": [
  {
   "cell_type": "raw",
   "metadata": {
    "vscode": {
     "languageId": "raw"
    }
   },
   "source": [
    "---\n",
    "layout: post\n",
    "title: Emoji\n",
    "description:  Hacks Tools & Equipment Play Hack 1 - Emoji\n",
    "type: issues \n",
    "comments: true\n",
    "permalink: Emoji\n",
    "---"
   ]
  },
  {
   "cell_type": "code",
   "execution_count": null,
   "metadata": {},
   "outputs": [
    {
     "name": "stdout",
     "output_type": "stream",
     "text": [
      "👍 Python is awesome! 😀\n"
     ]
    }
   ],
   "source": [
    "from emoji import emojize\n",
    "\n",
    "# Print a message with emojis\n",
    "print(emojize(\":thumbs_up: Python is awesome! :grinning_face:\"))"
   ]
  },
  {
   "cell_type": "code",
   "execution_count": null,
   "metadata": {},
   "outputs": [],
   "source": [
    "\n",
    "import time\n",
    "import random\n",
    "\n",
    "# Generate a large sorted list\n",
    "data_size = 10000000\n",
    "sorted_data = sorted(random.sample(range(100000000), data_size))\n",
    "\n",
    "# Target to find (worst case for linear search)\n",
    "target = sorted_data[-1]  # Last element\n",
    "\n",
    "# O(n) - Linear Search\n",
    "def linear_search(arr, target):\n",
    "    for i, element in enumerate(arr):\n",
    "        if element == target:\n",
    "            return i\n",
    "    return -1\n",
    "\n",
    "# O(log n) - Binary Search\n",
    "def binary_search(arr, target):\n",
    "    left, right = 0, len(arr) - 1\n",
    "    \n",
    "    while left <= right:\n",
    "        mid = (left + right) // 2\n",
    "        if arr[mid] == target:\n",
    "            return mid\n",
    "        elif arr[mid] < target:\n",
    "            left = mid + 1\n",
    "        else:\n",
    "            right = mid - 1\n",
    "    \n",
    "    return -1\n",
    "\n",
    "# Compare performance\n",
    "print(\"Testing with data size:\", data_size)\n",
    "\n",
    "start = time.time()\n",
    "linear_result = linear_search(sorted_data, target)\n",
    "linear_time = time.time() - start\n",
    "print(f\"Linear search: {linear_time:.6f} seconds\")\n",
    "\n",
    "start = time.time()\n",
    "binary_result = binary_search(sorted_data, target)\n",
    "binary_time = time.time() - start\n",
    "print(f\"Binary search: {binary_time:.6f} seconds\")\n",
    "\n",
    "print(f\"Binary search is approximately {linear_time/binary_time:.0f}x faster\")"
   ]
  }
 ],
 "metadata": {
  "kernelspec": {
   "display_name": "JavaScript (Node.js)",
   "language": "javascript",
   "name": "javascript"
  },
  "language_info": {
   "codemirror_mode": {
    "name": "ipython",
    "version": 3
   },
   "file_extension": ".py",
   "mimetype": "text/x-python",
   "name": "javascript",
   "nbconvert_exporter": "python",
   "pygments_lexer": "ipython3",
   "version": "3.12.3"
  }
 },
 "nbformat": 4,
 "nbformat_minor": 2
}
