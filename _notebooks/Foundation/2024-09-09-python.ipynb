{
 "cells": [
  {
   "cell_type": "raw",
   "metadata": {
    "vscode": {
     "languageId": "raw"
    }
   },
   "source": [
    "---\n",
    "layout: post\n",
    "title: Emoji\n",
    "description:  Hacks Tools & Equipment Play Hack 1 - Emoji\n",
    "type: issues \n",
    "comments: true\n",
    "permalink: Emoji\n",
    "---"
   ]
  },
  {
   "cell_type": "code",
   "execution_count": 2,
   "metadata": {},
   "outputs": [
    {
     "name": "stdout",
     "output_type": "stream",
     "text": [
      "👍 Python is awesome! 😀\n"
     ]
    }
   ],
   "source": [
    "from emoji import emojize\n",
    "\n",
    "# Print a message with emojis\n",
    "print(emojize(\":thumbs_up: Python is awesome! :grinning_face:\"))"
   ]
  }
 ],
 "metadata": {
  "kernelspec": {
   "display_name": "Python 3",
   "language": "python",
   "name": "python3"
  },
  "language_info": {
   "codemirror_mode": {
    "name": "ipython",
    "version": 3
   },
   "file_extension": ".py",
   "mimetype": "text/x-python",
   "name": "python",
   "nbconvert_exporter": "python",
   "pygments_lexer": "ipython3",
   "version": "3.12.3"
  }
 },
 "nbformat": 4,
 "nbformat_minor": 2
}
