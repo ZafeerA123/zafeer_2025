{
 "cells": [
  {
   "cell_type": "markdown",
   "metadata": {},
   "source": [
    "---\n",
    "layout: post\n",
    "title: Popcorn Hacks 3.10 Operations and Append\n",
    "description:  Popcorn Hacks for Lesson 3.10 Operations and Append\n",
    "comments: true\n",
    "permalink: Popcorn_Hacks_3_10\n",
    "---"
   ]
  },
  {
   "cell_type": "markdown",
   "metadata": {},
   "source": [
    "# Popcorn Hack 3.10.1"
   ]
  },
  {
   "cell_type": "code",
   "execution_count": 1,
   "metadata": {},
   "outputs": [
    {
     "name": "stdout",
     "output_type": "stream",
     "text": [
      "Items in your list:\n",
      "food\n",
      "water\n"
     ]
    }
   ],
   "source": [
    "# Initialize an empty list\n",
    "a_list = []\n",
    "\n",
    "# Prompt for user input\n",
    "user_input = input(\"Enter an item you want (or 'q' to quit): \")\n",
    "\n",
    "# Loop until the user inputs 'q'\n",
    "while user_input.lower() != 'q':\n",
    "    # Append the user input to the list\n",
    "    a_list.append(user_input)\n",
    "    # Ask for the next item\n",
    "    user_input = input(\"Enter an item you want (or 'q' to quit): \")\n",
    "\n",
    "# Display all items in the list\n",
    "print(\"Items in your list:\")\n",
    "for item in a_list:\n",
    "    print(item)\n"
   ]
  },
  {
   "cell_type": "markdown",
   "metadata": {},
   "source": [
    "# Popcorn Hack 3.10.2"
   ]
  },
  {
   "cell_type": "code",
   "execution_count": 3,
   "metadata": {},
   "outputs": [
    {
     "name": "stdout",
     "output_type": "stream",
     "text": [
      "The second thing on your list is: food\n",
      "This is your new list after deleting the second item: ['water', 'paper', 'pencil', 'notebook']\n"
     ]
    }
   ],
   "source": [
    "# Create a list named aList\n",
    "aList = []\n",
    "\n",
    "# Input items into the list\n",
    "while True:\n",
    "    user_input = input(\"Enter an item you want (or 'q' to quit): \")\n",
    "    if user_input.lower() == 'q':\n",
    "        break\n",
    "    aList.append(user_input)\n",
    "\n",
    "# Display the second element (if it exists)\n",
    "if len(aList) > 1:\n",
    "    print(\"The second thing on your list is:\", aList[1])\n",
    "else:\n",
    "    print(\"There is no second item in your list.\")\n",
    "\n",
    "# Delete the second element (if it exists)\n",
    "if len(aList) > 1:\n",
    "    del aList[1]  # Deletes the second element (index 1)\n",
    "    print(\"This is your new list after deleting the second item:\", aList)\n",
    "else:\n",
    "    print(\"There is no second item to delete.\")\n"
   ]
  },
  {
   "cell_type": "markdown",
   "metadata": {},
   "source": [
    "# Popcorn hack 3.10.3"
   ]
  },
  {
   "cell_type": "code",
   "execution_count": 4,
   "metadata": {},
   "outputs": [
    {
     "name": "stdout",
     "output_type": "stream",
     "text": [
      "Total number of items in the favorite foods list: 7\n"
     ]
    }
   ],
   "source": [
    "# Create a list of five favorite foods\n",
    "favorite_foods = [\"Pizza\", \"Sushi\", \"Tacos\", \"Pasta\", \"Ice Cream\"]\n",
    "\n",
    "# Add two more items to the list\n",
    "favorite_foods.append(\"Burgers\")\n",
    "favorite_foods.append(\"Salad\")\n",
    "\n",
    "# Find and print the total number of items in the list\n",
    "print(\"Total number of items in the favorite foods list:\", len(favorite_foods))\n"
   ]
  },
  {
   "cell_type": "markdown",
   "metadata": {},
   "source": [
    "# Popcorn Hack 3.10.4"
   ]
  },
  {
   "cell_type": "code",
   "execution_count": 5,
   "metadata": {},
   "outputs": [
    {
     "name": "stdout",
     "output_type": "stream",
     "text": [
      "Sum of all even numbers in the list: 30\n"
     ]
    }
   ],
   "source": [
    "# Define the list of numbers\n",
    "nums = [1, 2, 3, 4, 5, 6, 7, 8, 9, 10]\n",
    "\n",
    "# Initialize a variable to hold the sum of even numbers\n",
    "even_sum = 0\n",
    "\n",
    "# Loop through the list to find even numbers and calculate their sum\n",
    "for num in nums:\n",
    "    if num % 2 == 0:  # Check if the number is even\n",
    "        even_sum += num  # Add the even number to the sum\n",
    "\n",
    "# Print the sum of all even numbers\n",
    "print(\"Sum of all even numbers in the list:\", even_sum)\n"
   ]
  },
  {
   "cell_type": "markdown",
   "metadata": {},
   "source": [
    "# Popcorn Hack #2 3.10.4"
   ]
  },
  {
   "cell_type": "code",
   "execution_count": 6,
   "metadata": {},
   "outputs": [
    {
     "name": "stdout",
     "output_type": "stream",
     "text": [
      "banana is in the list of fruits.\n"
     ]
    }
   ],
   "source": [
    "# Define the list of fruits\n",
    "fruits = [\"apple\", \"banana\", \"orange\"]\n",
    "\n",
    "# Initialize a variable to represent the element to find\n",
    "element_to_find = \"banana\"\n",
    "\n",
    "# Check if the element is in the list using if-else statements\n",
    "if element_to_find in fruits:\n",
    "    print(f\"{element_to_find} is in the list of fruits.\")\n",
    "else:\n",
    "    print(f\"{element_to_find} is not in the list of fruits.\")\n"
   ]
  }
 ],
 "metadata": {
  "kernelspec": {
   "display_name": "venv",
   "language": "python",
   "name": "python3"
  },
  "language_info": {
   "codemirror_mode": {
    "name": "ipython",
    "version": 3
   },
   "file_extension": ".py",
   "mimetype": "text/x-python",
   "name": "python",
   "nbconvert_exporter": "python",
   "pygments_lexer": "ipython3",
   "version": "3.12.3"
  }
 },
 "nbformat": 4,
 "nbformat_minor": 2
}
