{
 "cells": [
  {
   "cell_type": "markdown",
   "metadata": {},
   "source": [
    "---\n",
    "layout: post\n",
    "title: 5.1 Beneficial and Harmful EFfects\n",
    "description:  Lesson and notes for 5.1 Beneficial and Harmful EFfects\n",
    "type: issues \n",
    "comments: true\n",
    "permalink: 5_1_Benfeficial_and_Harmful_Effects\n",
    "---"
   ]
  },
  {
   "cell_type": "code",
   "execution_count": null,
   "metadata": {
    "vscode": {
     "languageId": "plaintext"
    }
   },
   "outputs": [],
   "source": []
  },
  {
   "cell_type": "markdown",
   "metadata": {},
   "source": [
    "# 5.1: Beneficial and Harmful Effects"
   ]
  },
  {
   "cell_type": "markdown",
   "metadata": {},
   "source": [
    "# Beneficial and Harmful Effects of Technology\n",
    "\n",
    "## Beneficial Effects of Technology\n",
    "\n",
    "### Automated Telephone Trees\n",
    "- Used by companies to route calls efficiently based on customer needs.\n",
    "- Saves companies money and reduces consumer hold time.\n",
    "\n",
    "### Science and Technology Advancements\n",
    "- Computing innovations like MRI scanning and DNA sequencing help scientists develop new medicines and disease diagnostics.\n",
    "- Technologies like vaccines (COVID-19) are made possible due to advancements in computing.\n",
    "\n",
    "### Access to Education\n",
    "- Technology has moved encyclopedias and educational articles online.\n",
    "- E-books, Google, and other browsers provide access to vast amounts of information.\n",
    "\n",
    "## Harmful Effects of Technology\n",
    "\n",
    "### Unsafe Use / Cyberbullying\n",
    "- Children are vulnerable to online scams, inappropriate content, and exploitation.\n",
    "- Cyberbullying, driven by social media platforms, can contribute to mental health issues like depression and anxiety.\n",
    "\n",
    "### Social Media\n",
    "- Platforms like Instagram and TikTok negatively impact teenagers’ mental health.\n",
    "- Cases of suicides linked to social media use, such as a mother suing Meta and Snapchat, highlight the harms.\n",
    "- Dangerous trends, such as the \"blackout challenge,\" lead to harmful decisions.\n",
    "\n",
    "## Technological Dilemmas\n",
    "\n",
    "### Automated Cars and the Trolley Problem\n",
    "- **Beneficial**: Technology can make quick, unemotional decisions in emergencies.\n",
    "- **Harmful**: The ethics of programming automated cars to make life-or-death decisions is questionable.\n",
    "\n",
    "## Neutral Effects of Technology (Potential for Both Benefits and Harms)\n",
    "\n",
    "### Artificial Intelligence (AI)\n",
    "- **Benefits**: Increases efficiency, helps students with assignments, analyzes large data sets, and aids in healthcare.\n",
    "- **Harms**: Contributes to global warming, undermines critical thinking in education, and can spread misinformation through deepfake technology.\n",
    "\n",
    "### Drones (UAVs)\n",
    "- **Benefits**: Efficient in search and rescue, agriculture, and monitoring wildfires.\n",
    "- **Harms**: Privacy concerns, potential crashes, and military use in conflict zones lead to ethical and safety issues.\n",
    "\n",
    "### Gene Editing\n",
    "- **Benefits**: Can potentially cure genetic diseases and improve crop yield.\n",
    "- **Harms**: Unregulated gene editing could lead to harmful and unethical practices. Germline editing (altering reproductive cells) is illegal in some areas due to risks.\n",
    "\n",
    "---\n",
    "\n"
   ]
  },
  {
   "cell_type": "markdown",
   "metadata": {},
   "source": [
    "## Popcorn Hack Prompts\n",
    "\n",
    "**Hack #1**: What do you think is a beneficial effect?  \n",
    "A beneficial effect is the ability to communicate instantly with people around the world, which helps in staying connected and sharing ideas. \n",
    "\n",
    "**Hack #2**: What is the most beneficial effect of technology? Brainstorm more beneficial effects.  \n",
    "The most beneficial effect of technology is improving access to information, allowing people to learn new things quickly. Other beneficial effects can be: advancements in medicine, better transportation, and more\n",
    "\n",
    "**Hack #3**: Pick a dilemma and explain whether it’s more beneficial or harmful.  \n",
    "One dilemma is whether social media is more beneficial or harmful. It can be beneficial by connecting people and spreading important information, but it can also be harmful by increasing stress.\n",
    "\n",
    "---\n",
    "\n",
    "## Homework\n",
    "\n",
    "The beneficial effect I will explain is the ability to communicate instantly with people around the world. This is beneficial because it helps us stay connected with family and friends no matter the distance. It also allows for the fast sharing of information, which is crucial in emergencies. Instant communication helps businesses and organizations collaborate more effectively, leading to increased productivity. Overall, it brings people together.\n"
   ]
  }
 ],
 "metadata": {
  "language_info": {
   "name": "python"
  }
 },
 "nbformat": 4,
 "nbformat_minor": 2
}
