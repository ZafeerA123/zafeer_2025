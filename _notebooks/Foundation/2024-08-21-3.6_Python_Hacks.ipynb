{
 "cells": [
  {
   "cell_type": "markdown",
   "metadata": {},
   "source": [
    "---\n",
    "layout: post\n",
    "title: Hacks 3.6 Hacks\n",
    "description:  Hacks for Lesson 3.6 Conditionals in Python\n",
    "type: issues \n",
    "comments: true\n",
    "permalink: Python_Hacks_3_6\n",
    "---"
   ]
  },
  {
   "cell_type": "markdown",
   "metadata": {},
   "source": [
    "# Popcorn Hack 1"
   ]
  },
  {
   "cell_type": "code",
   "execution_count": 1,
   "metadata": {},
   "outputs": [
    {
     "name": "stdout",
     "output_type": "stream",
     "text": [
      "It's a cold day\n"
     ]
    }
   ],
   "source": [
    "# Step 1\n",
    "temperature = 50  \n",
    "\n",
    "# Step 2: Check the temperature range\n",
    "if temperature >= 80:\n",
    "    print(\"It's a hot day\")\n",
    "elif 60 <= temperature < 80:\n",
    "    print(\"It's a warm day\")\n",
    "else:\n",
    "    print(\"It's a cold day\")\n"
   ]
  },
  {
   "cell_type": "markdown",
   "metadata": {},
   "source": [
    "# Popcorn Hack 2"
   ]
  },
  {
   "cell_type": "code",
   "execution_count": 1,
   "metadata": {},
   "outputs": [
    {
     "name": "stdout",
     "output_type": "stream",
     "text": [
      "Please log in.\n",
      "Login failed. Please try again.\n"
     ]
    }
   ],
   "source": [
    "# Step 1: Create a variable called is_logged_in\n",
    "is_logged_in = False \n",
    "\n",
    "# Login username/password\n",
    "correct_username = \"user123\"\n",
    "correct_password = \"pass123\"\n",
    "\n",
    "# Step 2: Check if the user is logged in\n",
    "if is_logged_in:\n",
    "    print(\"Welcome back!\")\n",
    "else:\n",
    "    # Step 3: Prompt the user to log in\n",
    "    print(\"Please log in.\")\n",
    "    \n",
    "    # Login\n",
    "    username = input(\"Enter your username: \")\n",
    "    password = input(\"Enter your password: \")\n",
    "\n",
    "    # Check if the credentials are correct\n",
    "    if username == correct_username and password == correct_password:\n",
    "        is_logged_in = True\n",
    "        print(\"Login successful! Welcome!\")\n",
    "    else:\n",
    "        print(\"Login failed. Please try again.\")\n"
   ]
  },
  {
   "cell_type": "markdown",
   "metadata": {},
   "source": [
    "# Popcorn Hack 3"
   ]
  },
  {
   "cell_type": "code",
   "execution_count": 2,
   "metadata": {},
   "outputs": [
    {
     "name": "stdout",
     "output_type": "stream",
     "text": [
      "Person 1's age: 35\n",
      "Person 2's age: 58\n",
      "Person 1 is younger than Person 2.\n"
     ]
    }
   ],
   "source": [
    "import random\n",
    "\n",
    "def randomize_ages():\n",
    "    # Step 1: Randomize ages between 1 and 100\n",
    "    age1 = random.randint(1, 100)\n",
    "    age2 = random.randint(1, 100)\n",
    "    \n",
    "    # Step 2: Print the values of the ages\n",
    "    print(f\"Person 1's age: {age1}\")\n",
    "    print(f\"Person 2's age: {age2}\")\n",
    "    \n",
    "    # Step 3: Print the relationship of the ages\n",
    "    if age1 > age2:\n",
    "        print(\"Person 1 is older than Person 2.\")\n",
    "    elif age1 < age2:\n",
    "        print(\"Person 1 is younger than Person 2.\")\n",
    "    else:\n",
    "        print(\"Person 1 is the same age as Person 2.\")\n",
    "    \n",
    "    # Step 4: Check if either person is a minor (under 18)\n",
    "    if age1 < 18:\n",
    "        print(\"Person 1 is a minor.\")\n",
    "    if age2 < 18:\n",
    "        print(\"Person 2 is a minor.\")\n",
    "\n",
    "# Call the function\n",
    "randomize_ages()\n"
   ]
  },
  {
   "cell_type": "markdown",
   "metadata": {},
   "source": [
    "# Hack 1: Odd or Even Checker\n",
    "Description: This hack checks if a given number is odd or even.\n",
    "\n",
    "Define a function named check_odd_even that takes one parameter: number.\n",
    "Use an if statement to check if the number is divisible by 2.\n",
    "Return \"Even\" if true; otherwise, return \"Odd\".\n",
    "Call the function with different numbers to test your work."
   ]
  },
  {
   "cell_type": "code",
   "execution_count": 3,
   "metadata": {},
   "outputs": [
    {
     "name": "stdout",
     "output_type": "stream",
     "text": [
      "Even\n",
      "Odd\n",
      "Even\n",
      "Odd\n"
     ]
    }
   ],
   "source": [
    "def check_odd_even(number):\n",
    "    # Check if the number is divisible by 2\n",
    "    if number % 2 == 0:\n",
    "        return \"Even\"\n",
    "    else:\n",
    "        return \"Odd\"\n",
    "\n",
    "# Testing the function with different numbers\n",
    "print(check_odd_even(4))  # Output: Even\n",
    "print(check_odd_even(7))  # Output: Odd\n",
    "print(check_odd_even(0))  # Output: Even\n",
    "print(check_odd_even(-3)) # Output: Odd\n"
   ]
  },
  {
   "cell_type": "markdown",
   "metadata": {},
   "source": [
    "# Hack 2: Leap Year Checker\n",
    "Description: This hack determines if a given year is a leap year.\n",
    "\n",
    "Define a function named is_leap_year that takes one parameter: year.\n",
    "Use an if statement to check if the year is divisible by 4 but not by 100, or divisible by 400.\n",
    "Return \"Leap Year\" if true; otherwise, return \"Not a Leap Year\".\n",
    "Call the function with different years to test your work."
   ]
  },
  {
   "cell_type": "code",
   "execution_count": 4,
   "metadata": {},
   "outputs": [
    {
     "name": "stdout",
     "output_type": "stream",
     "text": [
      "Leap Year\n",
      "Not a Leap Year\n",
      "Leap Year\n",
      "Not a Leap Year\n"
     ]
    }
   ],
   "source": [
    "def is_leap_year(year):\n",
    "    # Check if the year is a leap year\n",
    "    if (year % 4 == 0 and year % 100 != 0) or (year % 400 == 0):\n",
    "        return \"Leap Year\"\n",
    "    else:\n",
    "        return \"Not a Leap Year\"\n",
    "\n",
    "# Testing the function with different years\n",
    "print(is_leap_year(2020))  # Output: Leap Year\n",
    "print(is_leap_year(1900))  # Output: Not a Leap Year\n",
    "print(is_leap_year(2000))  # Output: Leap Year\n",
    "print(is_leap_year(2023))  # Output: Not a Leap Year\n"
   ]
  },
  {
   "cell_type": "markdown",
   "metadata": {},
   "source": [
    "# Hack 3: Temperature Range Checker\n",
    "Description: This hack checks if a given temperature is considered cold, warm, or hot.\n",
    "\n",
    "Define a function named temperature_range that takes one parameter: temperature.\n",
    "Use if...elif...else statements to categorize the temperature:\n",
    "Return \"Cold\" for temperatures below 60°F.\n",
    "Return \"Warm\" for temperatures between 60°F and 80°F.\n",
    "Return \"Hot\" for temperatures above 85°F.\n",
    "Call the function with different temperature values to check your work."
   ]
  },
  {
   "cell_type": "code",
   "execution_count": 5,
   "metadata": {},
   "outputs": [
    {
     "name": "stdout",
     "output_type": "stream",
     "text": [
      "Cold\n",
      "Warm\n",
      "Hot\n",
      "Neither Warm nor Hot\n"
     ]
    }
   ],
   "source": [
    "def temperature_range(temperature):\n",
    "    # Categorize the temperature using if...elif...else statements\n",
    "    if temperature < 60:\n",
    "        return \"Cold\"\n",
    "    elif 60 <= temperature <= 80:\n",
    "        return \"Warm\"\n",
    "    elif temperature > 85:\n",
    "        return \"Hot\"\n",
    "    else:\n",
    "        return \"Neither Warm nor Hot\"\n",
    "\n",
    "# Testing the function with different temperature values\n",
    "print(temperature_range(45))  # Output: Cold\n",
    "print(temperature_range(70))  # Output: Warm\n",
    "print(temperature_range(90))  # Output: Hot\n",
    "print(temperature_range(82))  # Output: Neither Warm nor Hot\n"
   ]
  }
 ],
 "metadata": {
  "kernelspec": {
   "display_name": "venv",
   "language": "python",
   "name": "python3"
  },
  "language_info": {
   "codemirror_mode": {
    "name": "ipython",
    "version": 3
   },
   "file_extension": ".py",
   "mimetype": "text/x-python",
   "name": "python",
   "nbconvert_exporter": "python",
   "pygments_lexer": "ipython3",
   "version": "3.12.3"
  }
 },
 "nbformat": 4,
 "nbformat_minor": 2
}
