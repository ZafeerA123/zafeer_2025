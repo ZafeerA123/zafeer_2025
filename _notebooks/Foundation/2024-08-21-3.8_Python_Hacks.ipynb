{
 "cells": [
  {
   "cell_type": "markdown",
   "metadata": {},
   "source": [
    "---\n",
    "layout: post\n",
    "title: Hacks 3.8 Iterations\n",
    "description:  Hacks for Lesson 3.8  Iterations (3.8.1 to 3.8.5)\n",
    "type: issues \n",
    "comments: true\n",
    "permalink: Hacks_3_8\n",
    "---"
   ]
  },
  {
   "cell_type": "markdown",
   "metadata": {},
   "source": [
    "# Popcorn Hack 1"
   ]
  },
  {
   "cell_type": "code",
   "execution_count": 1,
   "metadata": {},
   "outputs": [
    {
     "name": "stdout",
     "output_type": "stream",
     "text": [
      "Hello\n",
      "Hello\n",
      "Hello\n",
      "Hello\n",
      "Hello\n"
     ]
    }
   ],
   "source": [
    "counter = 5\n",
    "while counter > 0:\n",
    "    print(\"Hello\")\n",
    "    counter -= 1\n"
   ]
  },
  {
   "cell_type": "markdown",
   "metadata": {},
   "source": [
    "# Popcorn Hack 2\n",
    "Create a piece of python code that prints out your name one time\n",
    "\n",
    "then after printing your first name one time, print out your middle name 2 times\n",
    "\n",
    "and finally print out your last name three times\n",
    "\n",
    "this entire thing should be repeated 4 times"
   ]
  },
  {
   "cell_type": "code",
   "execution_count": 5,
   "metadata": {},
   "outputs": [
    {
     "name": "stdout",
     "output_type": "stream",
     "text": [
      "Zafeer\n",
      "HaseebHaseeb\n",
      "AhmedAhmedAhmed\n",
      "Zafeer\n",
      "HaseebHaseeb\n",
      "AhmedAhmedAhmed\n",
      "Zafeer\n",
      "HaseebHaseeb\n",
      "AhmedAhmedAhmed\n",
      "Zafeer\n",
      "HaseebHaseeb\n",
      "AhmedAhmedAhmed\n"
     ]
    }
   ],
   "source": [
    "def print_names():\n",
    "    first_name = \"Zafeer\"\n",
    "    middle_name = \"Haseeb\"\n",
    "    last_name = \"Ahmed\"\n",
    "\n",
    "    for _ in range(4):  # Repeat 4 times\n",
    "        print(first_name)          # Print first name once\n",
    "        print(middle_name * 2)     # Print middle name twice\n",
    "        print(last_name * 3)       # Print last name three times\n",
    "\n",
    "print_names()\n"
   ]
  },
  {
   "cell_type": "markdown",
   "metadata": {},
   "source": [
    "# Popcorn Hack 3\n",
    "Iterates throgh Name"
   ]
  },
  {
   "cell_type": "code",
   "execution_count": 6,
   "metadata": {},
   "outputs": [
    {
     "name": "stdout",
     "output_type": "stream",
     "text": [
      "Z\n",
      "a\n",
      "f\n",
      "e\n",
      "e\n",
      "r\n"
     ]
    }
   ],
   "source": [
    "name = \"Zafeer\"\n",
    "\n",
    "for letter in name:\n",
    "    print(letter)\n"
   ]
  },
  {
   "cell_type": "markdown",
   "metadata": {},
   "source": [
    "# Popcorn Hack 4\n",
    "Create a dictionary and create a for loop that runs through each key and value of the dictionary For each iteration, print the key and value as well as a message of your choice"
   ]
  },
  {
   "cell_type": "code",
   "execution_count": 7,
   "metadata": {},
   "outputs": [
    {
     "name": "stdout",
     "output_type": "stream",
     "text": [
      "My favorite snack is Popcorn, and I rate it a 10/10!\n",
      "My favorite snack is Chips, and I rate it a 8/10!\n",
      "My favorite snack is Chocolate, and I rate it a 9/10!\n",
      "My favorite snack is Fruit, and I rate it a 7/10!\n"
     ]
    }
   ],
   "source": [
    "# Create a dictionary of favorite snacks with ratings\n",
    "favorite_snacks = {\n",
    "    \"Popcorn\": 10,\n",
    "    \"Chips\": 8,\n",
    "    \"Chocolate\": 9,\n",
    "    \"Fruit\": 7\n",
    "}\n",
    "\n",
    "# Iterate through the dictionary and print each snack with a message\n",
    "for snack, rating in favorite_snacks.items():\n",
    "    print(f\"My favorite snack is {snack}, and I rate it a {rating}/10!\")\n"
   ]
  },
  {
   "cell_type": "markdown",
   "metadata": {},
   "source": [
    "# Homework Hack #1 - While loops\n",
    "Create a python script that asks a user for a password in the terminal, then if the password is correct, it prints out that the password is correct.\n",
    "\n",
    "If the password is incorrect it asks for the password again."
   ]
  },
  {
   "cell_type": "code",
   "execution_count": 8,
   "metadata": {},
   "outputs": [
    {
     "name": "stdout",
     "output_type": "stream",
     "text": [
      "Password is correct!\n"
     ]
    }
   ],
   "source": [
    "# Define the correct password\n",
    "correct_password = \"mySecretPassword\"\n",
    "\n",
    "# Loop until the correct password is entered\n",
    "while True:\n",
    "    # Ask the user for the password\n",
    "    user_input = input(\"Enter your password: \")\n",
    "\n",
    "    # Check if the entered password is correct\n",
    "    if user_input == correct_password:\n",
    "        print(\"Password is correct!\")\n",
    "        break  # Exit the loop\n",
    "    else:\n",
    "        print(\"Incorrect password. Please try again.\")\n"
   ]
  },
  {
   "cell_type": "markdown",
   "metadata": {},
   "source": [
    "# Hack #2 - For Loops\n",
    "Then iterate through the name and print it out letter by letter through the terminal"
   ]
  },
  {
   "cell_type": "code",
   "execution_count": 9,
   "metadata": {},
   "outputs": [
    {
     "name": "stdout",
     "output_type": "stream",
     "text": [
      "Z\n",
      "a\n",
      "f\n",
      "e\n",
      "e\n",
      "r\n"
     ]
    }
   ],
   "source": [
    "# Ask the user for their name\n",
    "user_name = input(\"Enter your name: \")\n",
    "\n",
    "# Iterate through each letter in the user's name\n",
    "for letter in user_name:\n",
    "    print(letter)\n"
   ]
  },
  {
   "cell_type": "markdown",
   "metadata": {},
   "source": [
    "# Hack #3 For loops with lists\n",
    "Create a python script that has a list of at least 7 different fruits\n",
    "\n",
    "then create a for loop that iterates through that list and prints out each fruit seperate to the terminal"
   ]
  },
  {
   "cell_type": "code",
   "execution_count": 10,
   "metadata": {},
   "outputs": [
    {
     "name": "stdout",
     "output_type": "stream",
     "text": [
      "Apple\n",
      "Banana\n",
      "Orange\n",
      "Mango\n",
      "Strawberry\n",
      "Pineapple\n",
      "Grapes\n"
     ]
    }
   ],
   "source": [
    "# List of at least 7 different fruits\n",
    "fruits = [\"Apple\", \"Banana\", \"Orange\", \"Mango\", \"Strawberry\", \"Pineapple\", \"Grapes\"]\n",
    "\n",
    "# For loop to iterate through the list and print each fruit\n",
    "for fruit in fruits:\n",
    "    print(fruit)\n"
   ]
  }
 ],
 "metadata": {
  "kernelspec": {
   "display_name": "venv",
   "language": "python",
   "name": "python3"
  },
  "language_info": {
   "codemirror_mode": {
    "name": "ipython",
    "version": 3
   },
   "file_extension": ".py",
   "mimetype": "text/x-python",
   "name": "python",
   "nbconvert_exporter": "python",
   "pygments_lexer": "ipython3",
   "version": "3.12.3"
  }
 },
 "nbformat": 4,
 "nbformat_minor": 2
}
