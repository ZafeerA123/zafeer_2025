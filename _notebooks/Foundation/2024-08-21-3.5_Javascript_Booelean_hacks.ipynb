{
 "cells": [
  {
   "cell_type": "markdown",
   "metadata": {},
   "source": [
    "---\n",
    "layout: post\n",
    "title: Javascript 3.5 Boolean Hacks\n",
    "description:  Hack Lesson 3.5 Javascript boolean hacks\n",
    "type: issues \n",
    "comments: true\n",
    "permalink: Javascript_Hacks_3_5\n",
    "---"
   ]
  },
  {
   "cell_type": "markdown",
   "metadata": {},
   "source": [
    "# Homework Hacks"
   ]
  },
  {
   "cell_type": "code",
   "execution_count": 2,
   "metadata": {},
   "outputs": [
    {
     "name": "stdout",
     "output_type": "stream",
     "text": [
      "Password is valid!\n",
      "Password is invalid. It must meet the following criteria:\n",
      "- At least 10 characters long.\n",
      "- At least one special character.\n"
     ]
    },
    {
     "data": {
      "text/plain": [
       "undefined"
      ]
     },
     "execution_count": 2,
     "metadata": {},
     "output_type": "execute_result"
    }
   ],
   "source": [
    "function isValidPassword(password) {\n",
    "    // Check password criteria\n",
    "    const hasUpperCase = /[A-Z]/.test(password);\n",
    "    const hasLowerCase = /[a-z]/.test(password);\n",
    "    const hasNumber = /\\d/.test(password);\n",
    "    const hasSpecialChar = /[!@#$%^&*]/.test(password);\n",
    "    const hasNoSpaces = !/\\s/.test(password);\n",
    "    const isLongEnough = password.length >= 10;\n",
    "\n",
    "    // Check for no more than 3 of the same letter in a row\n",
    "    const hasTooManyConsecutiveLetters = /(\\w)\\1{2,}/.test(password);\n",
    "\n",
    "    // Use De Morgan's Law for readability\n",
    "    if (\n",
    "        isLongEnough &&\n",
    "        hasUpperCase &&\n",
    "        hasLowerCase &&\n",
    "        hasNumber &&\n",
    "        hasNoSpaces &&\n",
    "        hasSpecialChar &&\n",
    "        !hasTooManyConsecutiveLetters\n",
    "    ) {\n",
    "        console.log(\"Password is valid!\");\n",
    "    } else {\n",
    "        console.log(\"Password is invalid. It must meet the following criteria:\");\n",
    "        if (!isLongEnough) console.log(\"- At least 10 characters long.\");\n",
    "        if (!hasUpperCase) console.log(\"- At least one uppercase letter.\");\n",
    "        if (!hasLowerCase) console.log(\"- At least one lowercase letter.\");\n",
    "        if (!hasNumber) console.log(\"- At least one number.\");\n",
    "        if (!hasNoSpaces) console.log(\"- No spaces allowed.\");\n",
    "        if (!hasSpecialChar) console.log(\"- At least one special character.\");\n",
    "        if (hasTooManyConsecutiveLetters) console.log(\"- No more than 3 of the same letter in a row.\");\n",
    "    }\n",
    "}\n",
    "\n",
    "// Example usage:\n",
    "isValidPassword(\"Password1!\"); //Valid\n",
    "isValidPassword(\"Pass1\"); // Invalid, too short\n"
   ]
  },
  {
   "cell_type": "markdown",
   "metadata": {},
   "source": [
    "## Homework Hack 2"
   ]
  },
  {
   "cell_type": "markdown",
   "metadata": {},
   "source": [
    "[Homework_Hack_2](https://www.programiz.com/online-compiler/7vCCWCE62aku2)"
   ]
  },
  {
   "cell_type": "markdown",
   "metadata": {},
   "source": [
    "## Popcorn Hacks"
   ]
  },
  {
   "cell_type": "markdown",
   "metadata": {},
   "source": [
    "[Popcorn_Hack_1](https://www.programiz.com/online-compiler/9Umm1m0fbZfhT)"
   ]
  },
  {
   "cell_type": "markdown",
   "metadata": {},
   "source": [
    "[Popcorn_Hack_2](https://www.programiz.com/online-compiler/7jRRTCgIQvW59)"
   ]
  },
  {
   "cell_type": "markdown",
   "metadata": {},
   "source": [
    "[Popcorn_Hack_3](https://www.programiz.com/online-compiler/8RZZjcBvvCUX5)"
   ]
  }
 ],
 "metadata": {
  "kernelspec": {
   "display_name": "JavaScript (Node.js)",
   "language": "javascript",
   "name": "javascript"
  },
  "language_info": {
   "file_extension": ".js",
   "mimetype": "application/javascript",
   "name": "javascript",
   "version": "18.19.1"
  }
 },
 "nbformat": 4,
 "nbformat_minor": 2
}
