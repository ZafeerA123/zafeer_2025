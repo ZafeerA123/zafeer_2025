{
 "cells": [
  {
   "cell_type": "markdown",
   "metadata": {},
   "source": [
    "---\n",
    "layout: post\n",
    "title: Homework Hacks 3.10 Operations and Append\n",
    "description:  Homework Hacks for Lesson 3.10 Operations and Append\n",
    "comments: true\n",
    "permalink: Homework_Hacks_3_10\n",
    "---"
   ]
  },
  {
   "cell_type": "markdown",
   "metadata": {},
   "source": [
    "# Homework Hack 1\n",
    "Write a Python program that creates a list of the following numbers: 10, 20, 30, 40, 50. Then, print the second element in the list."
   ]
  },
  {
   "cell_type": "code",
   "execution_count": 1,
   "metadata": {},
   "outputs": [
    {
     "name": "stdout",
     "output_type": "stream",
     "text": [
      "The second element in the list is: 20\n"
     ]
    }
   ],
   "source": [
    "# Create a list of numbers\n",
    "numbers = [10, 20, 30, 40, 50]\n",
    "\n",
    "# Print the second element in the list\n",
    "print(\"The second element in the list is:\", numbers[1])\n"
   ]
  },
  {
   "cell_type": "markdown",
   "metadata": {},
   "source": [
    "# Homework Hack 2\n",
    "\n",
    "[Homework Hack 2](https://playcode.io/2043156)\n"
   ]
  },
  {
   "cell_type": "markdown",
   "metadata": {},
   "source": [
    "# Homework Hack 3\n",
    "Python: Create a to-do list in whcih users can add, remove, and view items in their list."
   ]
  },
  {
   "cell_type": "code",
   "execution_count": 3,
   "metadata": {},
   "outputs": [
    {
     "name": "stdout",
     "output_type": "stream",
     "text": [
      "\n",
      "--- To-Do List Menu ---\n",
      "1. Add item\n",
      "2. Remove item\n",
      "3. View items\n",
      "4. Exit\n",
      "-----------------------\n",
      "\"Complete Homework for CSP\" has been added to your to-do list.\n",
      "\n",
      "--- To-Do List Menu ---\n",
      "1. Add item\n",
      "2. Remove item\n",
      "3. View items\n",
      "4. Exit\n",
      "-----------------------\n",
      "\n",
      "Your To-Do List:\n",
      "- Complete Homework for CSP\n",
      "\n",
      "--- To-Do List Menu ---\n",
      "1. Add item\n",
      "2. Remove item\n",
      "3. View items\n",
      "4. Exit\n",
      "-----------------------\n",
      "Exiting the to-do list program. Goodbye!\n"
     ]
    }
   ],
   "source": [
    "def display_menu():\n",
    "    print(\"\\n--- To-Do List Menu ---\")\n",
    "    print(\"1. Add item\")\n",
    "    print(\"2. Remove item\")\n",
    "    print(\"3. View items\")\n",
    "    print(\"4. Exit\")\n",
    "    print(\"-----------------------\")\n",
    "\n",
    "def main():\n",
    "    todo_list = []\n",
    "\n",
    "    while True:\n",
    "        display_menu()\n",
    "        choice = input(\"Choose an option (1-4): \")\n",
    "\n",
    "        if choice == '1':\n",
    "            item = input(\"Enter the item to add: \")\n",
    "            todo_list.append(item)\n",
    "            print(f'\"{item}\" has been added to your to-do list.')\n",
    "\n",
    "        elif choice == '2':\n",
    "            item = input(\"Enter the item to remove: \")\n",
    "            if item in todo_list:\n",
    "                todo_list.remove(item)\n",
    "                print(f'\"{item}\" has been removed from your to-do list.')\n",
    "            else:\n",
    "                print(f'\"{item}\" is not in your to-do list.')\n",
    "\n",
    "        elif choice == '3':\n",
    "            print(\"\\nYour To-Do List:\")\n",
    "            if todo_list:\n",
    "                for item in todo_list:\n",
    "                    print(f\"- {item}\")\n",
    "            else:\n",
    "                print(\"Your to-do list is empty.\")\n",
    "\n",
    "        elif choice == '4':\n",
    "            print(\"Exiting the to-do list program. Goodbye!\")\n",
    "            break\n",
    "\n",
    "        else:\n",
    "            print(\"Invalid choice. Please select a valid option.\")\n",
    "\n",
    "if __name__ == \"__main__\":\n",
    "    main()\n"
   ]
  },
  {
   "cell_type": "markdown",
   "metadata": {},
   "source": [
    "# Copy paste code into the following compiler to try\n",
    "\n",
    "[Online Python Compiler](https://www.programiz.com/python-programming/online-compiler/)"
   ]
  },
  {
   "cell_type": "markdown",
   "metadata": {},
   "source": [
    "# Homework hack 4\n",
    "[Homework hack 4](https://www.programiz.com/online-compiler/5Hdd0pfT5Lcpl)"
   ]
  }
 ],
 "metadata": {
  "kernelspec": {
   "display_name": "venv",
   "language": "python",
   "name": "python3"
  },
  "language_info": {
   "codemirror_mode": {
    "name": "ipython",
    "version": 3
   },
   "file_extension": ".py",
   "mimetype": "text/x-python",
   "name": "python",
   "nbconvert_exporter": "python",
   "pygments_lexer": "ipython3",
   "version": "3.12.3"
  }
 },
 "nbformat": 4,
 "nbformat_minor": 2
}
