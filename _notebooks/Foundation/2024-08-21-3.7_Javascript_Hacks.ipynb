{
 "cells": [
  {
   "cell_type": "markdown",
   "metadata": {},
   "source": [
    "---\n",
    "layout: post\n",
    "title: Javascript 3.7 Hacks\n",
    "description:  Hack for Lesson 3.7 Javascript \n",
    "type: issues \n",
    "comments: true\n",
    "permalink: Javascript_Hacks_3_7\n",
    "---"
   ]
  },
  {
   "cell_type": "markdown",
   "metadata": {},
   "source": [
    "# Popcorn Hack 1"
   ]
  },
  {
   "cell_type": "code",
   "execution_count": 1,
   "metadata": {},
   "outputs": [
    {
     "name": "stdout",
     "output_type": "stream",
     "text": [
      "The weather is sunny\n",
      "Your transportation is available\n",
      "Your boots are not present\n",
      "Miles in the hike: 5\n",
      "You need to find your boots first.\n"
     ]
    },
    {
     "data": {
      "text/plain": [
       "undefined"
      ]
     },
     "execution_count": 1,
     "metadata": {},
     "output_type": "execute_result"
    }
   ],
   "source": [
    "let weather = \"sunny\";\n",
    "let transportation = \"available\";\n",
    "let boots = \"not present\";\n",
    "let miles_in_the_hike = 5; // New variable for hike distance\n",
    "\n",
    "console.log(\"The weather is \" + weather);\n",
    "console.log(\"Your transportation is \" + transportation);\n",
    "console.log(\"Your boots are \" + boots);\n",
    "console.log(\"Miles in the hike: \" + miles_in_the_hike);\n",
    "\n",
    "if (weather === \"sunny\") {\n",
    "    if (transportation === \"available\") {\n",
    "        if (boots === \"present\") {\n",
    "            if (miles_in_the_hike < 10) { // Check if the hike is less than 10 miles\n",
    "                console.log(\"You are ready to go hiking!\");\n",
    "            } else {\n",
    "                console.log(\"That's a long hike! Make sure you're prepared.\");\n",
    "            }\n",
    "        } else {\n",
    "            console.log(\"You need to find your boots first.\");\n",
    "        }\n",
    "    } else {\n",
    "        console.log(\"You need to arrange transportation.\");\n",
    "    }\n",
    "} else {\n",
    "    console.log(\"It's not good weather for hiking.\");\n",
    "}\n"
   ]
  },
  {
   "cell_type": "markdown",
   "metadata": {},
   "source": [
    "# Popcorn Hack 2"
   ]
  },
  {
   "cell_type": "code",
   "execution_count": 2,
   "metadata": {},
   "outputs": [
    {
     "name": "stdout",
     "output_type": "stream",
     "text": [
      "You need to fix or replace the projector.\n"
     ]
    },
    {
     "data": {
      "text/plain": [
       "undefined"
      ]
     },
     "execution_count": 2,
     "metadata": {},
     "output_type": "execute_result"
    }
   ],
   "source": [
    "// Define the boolean variables\n",
    "let living_room_available = true;  // Change this to test different scenarios\n",
    "let projector_working = false;      // Change this to test different scenarios\n",
    "let enough_snacks = true;           // Change this to test different scenarios\n",
    "\n",
    "// Check conditions for hosting the movie night\n",
    "if (living_room_available) {\n",
    "    if (projector_working) {\n",
    "        if (enough_snacks) {\n",
    "            console.log(\"You're ready to host the movie night!\");\n",
    "        } else {\n",
    "            console.log(\"You need to get more snacks. Ideas: Popcorn, Candy, Soda\");\n",
    "        }\n",
    "    } else {\n",
    "        console.log(\"You need to fix or replace the projector.\");\n",
    "    }\n",
    "} else {\n",
    "    console.log(\"The living room is not available for the movie night. Find another room!\");\n",
    "}\n"
   ]
  },
  {
   "cell_type": "markdown",
   "metadata": {},
   "source": [
    "# Hack 1: Write Javascript pseudocode to decide whether or not to study for an exam."
   ]
  },
  {
   "cell_type": "code",
   "execution_count": 4,
   "metadata": {},
   "outputs": [
    {
     "name": "stdout",
     "output_type": "stream",
     "text": [
      "You don't have a quiet place. Find a quiet location to study.\n"
     ]
    },
    {
     "data": {
      "text/plain": [
       "undefined"
      ]
     },
     "execution_count": 4,
     "metadata": {},
     "output_type": "execute_result"
    }
   ],
   "source": [
    "// Define boolean variables for study conditions\n",
    "let studyMaterialsAvailable1 = true;  // Change to false if you don't have materials\n",
    "let quietPlaceAvailable1 = false;      // Change to true if you have a quiet place\n",
    "let feelingTired1 = false;              // Change to true if you are feeling tired\n",
    "\n",
    "// Check if all conditions are met\n",
    "if (studyMaterialsAvailable1) {\n",
    "    if (quietPlaceAvailable1) {\n",
    "        if (!feelingTired1) {\n",
    "            console.log(\"You are ready to study!\"); \n",
    "        } else {\n",
    "            console.log(\"You are too tired. Consider taking a nap or resting first.\"); \n",
    "        }\n",
    "    } else {\n",
    "        console.log(\"You don't have a quiet place. Find a quiet location to study.\"); \n",
    "    }\n",
    "} else {\n",
    "    console.log(\"You need to gather your study materials first.\"); \n",
    "}\n"
   ]
  },
  {
   "cell_type": "markdown",
   "metadata": {},
   "source": [
    "# Hack 2: Write Javascript code deciding whether or not you can bake a cake."
   ]
  },
  {
   "cell_type": "code",
   "execution_count": 5,
   "metadata": {},
   "outputs": [
    {
     "name": "stdout",
     "output_type": "stream",
     "text": [
      "You need to fix or replace the oven.\n"
     ]
    },
    {
     "data": {
      "text/plain": [
       "undefined"
      ]
     },
     "execution_count": 5,
     "metadata": {},
     "output_type": "execute_result"
    }
   ],
   "source": [
    "// Define boolean variables for baking conditions\n",
    "let allIngredientsAvailable = true; // Change to false if you are missing any ingredient\n",
    "let ovenWorking = false;             // Change to true if the oven is working\n",
    "let timeAvailable = 1;               \n",
    "\n",
    "// List missing ingredients (if any)\n",
    "let missingIngredients = [];\n",
    "if (!allIngredientsAvailable) {\n",
    "    missingIngredients.push(\"flour\");\n",
    "    missingIngredients.push(\"eggs\");\n",
    "    missingIngredients.push(\"sugar\");\n",
    "}\n",
    "\n",
    "// Check baking conditions\n",
    "if (allIngredientsAvailable) {\n",
    "    if (ovenWorking) {\n",
    "        if (timeAvailable >= 2) {\n",
    "            console.log(\"You can start baking the cake!\");\n",
    "        } else {\n",
    "            console.log(\"You need to find more time.\");\n",
    "        }\n",
    "    } else {\n",
    "        console.log(\"You need to fix or replace the oven.\");\n",
    "    }\n",
    "} else {\n",
    "    console.log(\"You don't have all the ingredients: \" + missingIngredients.join(\", \") + \".\");\n",
    "}\n"
   ]
  },
  {
   "cell_type": "markdown",
   "metadata": {},
   "source": [
    "# Hack 3: Write Javascript code to determine whether or not to go camping."
   ]
  },
  {
   "cell_type": "code",
   "execution_count": 6,
   "metadata": {},
   "outputs": [
    {
     "name": "stdout",
     "output_type": "stream",
     "text": [
      "You can go camping! Enjoy!\n"
     ]
    },
    {
     "data": {
      "text/plain": [
       "undefined"
      ]
     },
     "execution_count": 6,
     "metadata": {},
     "output_type": "execute_result"
    }
   ],
   "source": [
    "// Define boolean variables for camping conditions\n",
    "let weatherNice = true;             // Change to false if the weather is bad\n",
    "let enoughSupplies = true;          // Change to false if you are missing supplies\n",
    "let noOtherPlans = true;             // Change to false if you have other plans\n",
    "let campingLocationAvailable = true; // Change to false if the location is not available\n",
    "\n",
    "// Check camping conditions\n",
    "if (weatherNice) {\n",
    "    if (enoughSupplies) {\n",
    "        if (noOtherPlans) {\n",
    "            if (campingLocationAvailable) {\n",
    "                console.log(\"You can go camping! Enjoy!\");\n",
    "            } else {\n",
    "                console.log(\"The camping location is not available. Find another spot.\");\n",
    "            }\n",
    "        } else {\n",
    "            console.log(\"You have other plans. Consider rescheduling them.\");\n",
    "        }\n",
    "    } else {\n",
    "        console.log(\"You need to gather your camping supplies before going.\");\n",
    "    }\n",
    "} else {\n",
    "    console.log(\"The weather is not nice for camping. Maybe another time.\");\n",
    "}\n"
   ]
  },
  {
   "cell_type": "markdown",
   "metadata": {},
   "source": [
    "You can use the following JavaScript compiler to run any of the hacks above and change the user inputs:\n",
    "\n",
    "[Programiz JavaScript Compiler](https://www.programiz.com/javascript/online-compiler/)\n"
   ]
  }
 ],
 "metadata": {
  "kernelspec": {
   "display_name": "JavaScript (Node.js)",
   "language": "javascript",
   "name": "javascript"
  },
  "language_info": {
   "file_extension": ".js",
   "mimetype": "application/javascript",
   "name": "javascript",
   "version": "18.19.1"
  }
 },
 "nbformat": 4,
 "nbformat_minor": 2
}
