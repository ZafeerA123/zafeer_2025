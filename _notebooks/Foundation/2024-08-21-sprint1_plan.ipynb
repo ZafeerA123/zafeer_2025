{
 "cells": [
  {
   "cell_type": "raw",
   "metadata": {
    "vscode": {
     "languageId": "raw"
    }
   },
   "source": [
    "---\n",
    "layout: post\n",
    "title: Sprint 1 - Objectives vs Accomplishment\n",
    "description:  Hack for GitHub Pages Hacks\n",
    "type: issues \n",
    "comments: true\n",
    "permalink: ObjectivesVSAccomplishment\n",
    "---"
   ]
  },
  {
   "cell_type": "markdown",
   "metadata": {},
   "source": [
    "## [Issue](https://github.com/nighthawkcoders/portfolio_2025/issues/14) "
   ]
  },
  {
   "cell_type": "markdown",
   "metadata": {},
   "source": [
    "## September 9th\n",
    "On this day, me and my group mates planned out to finish our peer review and checklist, in order to have a review ticket done and ready for our teacher review the following day. We were on different parts of the review process, as I hadn't started hacks for SASS yet, and he had not started frontend hacks yet. We ended up not finishing our plan, and ended up finising the rest of the hacks and the peer review later in the day\n"
   ]
  },
  {
   "cell_type": "markdown",
   "metadata": {},
   "source": []
  },
  {
   "cell_type": "markdown",
   "metadata": {},
   "source": []
  }
 ],
 "metadata": {
  "language_info": {
   "name": "python"
  }
 },
 "nbformat": 4,
 "nbformat_minor": 2
}
