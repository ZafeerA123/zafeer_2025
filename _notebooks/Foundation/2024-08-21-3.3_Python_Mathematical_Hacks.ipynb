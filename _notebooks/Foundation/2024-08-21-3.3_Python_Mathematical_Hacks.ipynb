{
 "cells": [
  {
   "cell_type": "markdown",
   "metadata": {},
   "source": [
    "---\n",
    "layout: post\n",
    "title: Hacks 3.3 Python\n",
    "description:  Hack for GitHub Pages Hacks\n",
    "type: issues \n",
    "comments: true\n",
    "permalink: Python_Hacks_3_3\n",
    "---"
   ]
  },
  {
   "cell_type": "markdown",
   "metadata": {},
   "source": [
    "## Popcorn Hacks"
   ]
  },
  {
   "cell_type": "code",
   "execution_count": 13,
   "metadata": {
    "vscode": {
     "languageId": "javascript"
    }
   },
   "outputs": [
    {
     "name": "stdout",
     "output_type": "stream",
     "text": [
      "15\n"
     ]
    }
   ],
   "source": [
    "num_list = [0, 1, 2, 3, 4, 5]\n",
    "sum1 = sum(num_list)\n",
    "print(sum1)\n"
   ]
  },
  {
   "cell_type": "code",
   "execution_count": 14,
   "metadata": {
    "vscode": {
     "languageId": "javascript"
    }
   },
   "outputs": [
    {
     "name": "stdout",
     "output_type": "stream",
     "text": [
      "The total cost is: $ 4\n"
     ]
    }
   ],
   "source": [
    "price_per_bag = int(input(\"Enter the price per bag of popcorn: \"))\n",
    "num_bags = int(input(\"Enter the number of bags you want to buy: \"))\n",
    "\n",
    "# total cost\n",
    "total_cost = price_per_bag * num_bags\n",
    "\n",
    "print(f\"The total cost is: $\",total_cost)"
   ]
  },
  {
   "cell_type": "code",
   "execution_count": 4,
   "metadata": {
    "vscode": {
     "languageId": "javascript"
    }
   },
   "outputs": [
    {
     "name": "stdout",
     "output_type": "stream",
     "text": [
      "The total sum from 1 to 4 is: 10\n"
     ]
    }
   ],
   "source": [
    "n = int(input(\"Enter a number: \"))\n",
    "\n",
    "total_sum = 0\n",
    "\n",
    "for i in range(1, n + 1):\n",
    "    total_sum += i\n",
    "\n",
    "print(\"The total sum from 1 to\", n, \"is:\", total_sum)\n",
    "\n",
    "\n"
   ]
  },
  {
   "cell_type": "markdown",
   "metadata": {},
   "source": [
    "## Homework Hacks"
   ]
  },
  {
   "cell_type": "code",
   "execution_count": 6,
   "metadata": {
    "vscode": {
     "languageId": "javascript"
    }
   },
   "outputs": [
    {
     "name": "stdout",
     "output_type": "stream",
     "text": [
      "The median is: 3\n",
      "The mean is 3.0\n"
     ]
    }
   ],
   "source": [
    "num = [0, 1, 2, 3, 4, 5, 6 ]\n",
    "mean = sum(num) / len(num)\n",
    "\n",
    "n = len(num)\n",
    "if n % 2 == 0:\n",
    "    median = (num[n//2 - 1] + num[n//2]) / 2\n",
    "else:\n",
    "    median = num[n//2]\n",
    "\n",
    "print(\"The median is:\", median)\n",
    "print(\"The mean is\", mean)"
   ]
  },
  {
   "cell_type": "code",
   "execution_count": 11,
   "metadata": {
    "vscode": {
     "languageId": "javascript"
    }
   },
   "outputs": [
    {
     "name": "stdout",
     "output_type": "stream",
     "text": [
      "[10, 5, 16, 8, 4, 2, 1]\n"
     ]
    }
   ],
   "source": [
    "def collatz_sequence(a):\n",
    "    if a <= 0:\n",
    "        return \"Input must be a positive integer.\"\n",
    "    \n",
    "    sequence = [a] \n",
    "    while a != 1:\n",
    "        if a % 2 == 0:  # Check if a is even\n",
    "            a //= 2  # Divide by 2\n",
    "        else:  \n",
    "            a = 3 * a + 1  \n",
    "        sequence.append(a)  \n",
    "    \n",
    "    return sequence  # Return the sequence\n",
    "\n",
    "result = collatz_sequence(10)\n",
    "print(result)\n",
    "\n",
    "# Change the value above, \"result = collatz_sequence(#)\" to change starting value\n"
   ]
  }
 ],
 "metadata": {
  "kernelspec": {
   "display_name": "venv",
   "language": "python",
   "name": "python3"
  },
  "language_info": {
   "codemirror_mode": {
    "name": "ipython",
    "version": 3
   },
   "file_extension": ".py",
   "mimetype": "text/x-python",
   "name": "python",
   "nbconvert_exporter": "python",
   "pygments_lexer": "ipython3",
   "version": "3.12.3"
  }
 },
 "nbformat": 4,
 "nbformat_minor": 2
}
