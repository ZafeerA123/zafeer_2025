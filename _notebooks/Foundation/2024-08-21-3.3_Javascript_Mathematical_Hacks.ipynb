{
 "cells": [
  {
   "cell_type": "markdown",
   "metadata": {},
   "source": [
    "---\n",
    "layout: post\n",
    "title: Javascript Hacks 3.3 \n",
    "description:  Hacks for lesson 3.3 Javascript Mathetmatical functions\n",
    "type: issues \n",
    "comments: true\n",
    "permalink: Javascript_Hacks_3_3\n",
    "---"
   ]
  },
  {
   "cell_type": "markdown",
   "metadata": {},
   "source": [
    "# Popcorn Hacks"
   ]
  },
  {
   "cell_type": "code",
   "execution_count": 1,
   "metadata": {},
   "outputs": [
    {
     "name": "stdout",
     "output_type": "stream",
     "text": [
      "28\n"
     ]
    }
   ],
   "source": [
    "function calculateToThirtyTwo() {\n",
    "    let result = (8 * 4) + (16 / 4) - 8;\n",
    "    return result;\n",
    "}\n",
    "\n",
    "console.log(calculateToThirtyTwo());  \n"
   ]
  },
  {
   "cell_type": "markdown",
   "metadata": {},
   "source": [
    "[Popcorn Hack 2](https://www.programiz.com/online-compiler/6I99ycXenbwM9)\n"
   ]
  },
  {
   "cell_type": "markdown",
   "metadata": {},
   "source": [
    "[Popcorn Hack 3](https://www.programiz.com/online-compiler/4I99yScDUbVyx)"
   ]
  },
  {
   "cell_type": "markdown",
   "metadata": {
    "vscode": {
     "languageId": "raw"
    }
   },
   "source": [
    "# Flowchart for Choose Your Own Path Game\n",
    "\n",
    "```plaintext\n",
    "+--------------------------------------+\n",
    "|            Start Game                |\n",
    "+--------------------------------------+\n",
    "                 |\n",
    "                 v\n",
    "+--------------------------------------+\n",
    "|   You see a fight at school.        |\n",
    "|  Do you break it up or mind your own |\n",
    "|              business?               |\n",
    "+--------------------------------------+\n",
    "                 |\n",
    "          +------+-------+\n",
    "          |              |\n",
    "         v                v\n",
    "+----------------+   +---------------------+\n",
    "| Break it up    |   | Mind your own       |\n",
    "|                |   | business            |\n",
    "+----------------+   +---------------------+\n",
    "         |                      |\n",
    "         v                      v\n",
    "+---------------------+   +----------------------+\n",
    "| Apologize or walk   |   | Confront gossipers   |\n",
    "| away?               |   | or ignore them?      |\n",
    "+---------------------+   +----------------------+\n",
    "         |                      |\n",
    "   +-----+-----+          +-----+-----+\n",
    "   |           |          |           |\n",
    "   v           v          v           v\n",
    "+-----------+ +-----------+ +---------+ +---------+\n",
    "| You      | | You walk  | | You     | | You     |\n",
    "| become    | | away,     | | confront | | ignore  |\n",
    "| friends!  | | feel guilty| | and find | | and feel|\n",
    "+-----------+ +-----------+ | out the | | peaceful |\n",
    "                            | real story| +---------+\n",
    "                            +-----------+\n",
    "\n",
    "+--------------------------------------+\n",
    "|            Start Game                |\n",
    "+--------------------------------------+\n",
    "                 |\n",
    "                 v\n",
    "+--------------------------------------+\n",
    "|   You see a fight at school.        |\n",
    "|  Do you break it up or mind your own |\n",
    "|              business?               |\n",
    "+--------------------------------------+\n",
    "                 |\n",
    "          +------+-------+\n",
    "          |              |\n",
    "         v                v\n",
    "+----------------+   +---------------------+\n",
    "| Break it up    |   | Mind your own       |\n",
    "|                |   | business            |\n",
    "+----------------+   +---------------------+\n",
    "         |                      |\n",
    "         v                      v\n",
    "+---------------------+   +----------------------+\n",
    "| Apologize or walk   |   | Confront gossipers   |\n",
    "| away?               |   | or ignore them?      |\n",
    "+---------------------+   +----------------------+\n",
    "         |                      |\n",
    "   +-----+-----+          +-----+-----+\n",
    "   |           |          |           |\n",
    "   v           v          v           v\n",
    "+-----------+ +-----------+ +---------+ +---------+\n",
    "| You      | | You walk  | | You     | | You     |\n",
    "| become    | | away,     | | confront | | ignore  |\n",
    "| friends!  | | feel guilty| | and find | | and feel|\n",
    "+-----------+ +-----------+ | out the | | peaceful |\n",
    "                            | real story| +---------+\n",
    "                            +-----------+\n"
   ]
  }
 ],
 "metadata": {
  "kernelspec": {
   "display_name": "JavaScript (Node.js)",
   "language": "javascript",
   "name": "javascript"
  },
  "language_info": {
   "file_extension": ".js",
   "mimetype": "application/javascript",
   "name": "javascript",
   "version": "18.19.1"
  }
 },
 "nbformat": 4,
 "nbformat_minor": 2
}
