{
 "cells": [
  {
   "cell_type": "markdown",
   "metadata": {},
   "source": [
    "---\n",
    "layout: post\n",
    "title: Javascript Hacks 3.3 \n",
    "description:  Hacks for lesson 3.3 Javascript Mathetmatical functions\n",
    "type: issues \n",
    "comments: true\n",
    "permalink: Javascript_Hacks_3_3\n",
    "---"
   ]
  },
  {
   "cell_type": "markdown",
   "metadata": {},
   "source": [
    "# Popcorn Hacks"
   ]
  },
  {
   "cell_type": "code",
   "execution_count": null,
   "metadata": {
    "vscode": {
     "languageId": "javascript"
    }
   },
   "outputs": [],
   "source": [
    "function calculateToThirtyTwo() {\n",
    "    let result = (8 * 4) + (16 / 4) - 8;\n",
    "    return result;\n",
    "}\n",
    "\n",
    "console.log(calculateToThirtyTwo());  \n"
   ]
  }
 ],
 "metadata": {
  "kernelspec": {
   "display_name": "venv",
   "language": "python",
   "name": "python3"
  },
  "language_info": {
   "file_extension": ".js",
   "mimetype": "application/javascript",
   "name": "python",
   "version": "3.12.3"
  }
 },
 "nbformat": 4,
 "nbformat_minor": 2
}
