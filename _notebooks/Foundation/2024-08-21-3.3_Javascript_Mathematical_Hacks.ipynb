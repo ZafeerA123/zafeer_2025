{
 "cells": [
  {
   "cell_type": "markdown",
   "metadata": {},
   "source": [
    "---\n",
    "layout: post\n",
    "title: Javascript Hacks 3.3 \n",
    "description:  Hacks for lesson 3.3 Javascript Mathetmatical functions\n",
    "type: issues \n",
    "comments: true\n",
    "permalink: Javascript_Hacks_3_3\n",
    "---"
   ]
  },
  {
   "cell_type": "markdown",
   "metadata": {},
   "source": [
    "# Popcorn Hacks"
   ]
  },
  {
   "cell_type": "code",
   "execution_count": 1,
   "metadata": {},
   "outputs": [
    {
     "name": "stdout",
     "output_type": "stream",
     "text": [
      "28\n"
     ]
    },
    {
     "data": {
      "text/plain": [
       "undefined"
      ]
     },
     "execution_count": 1,
     "metadata": {},
     "output_type": "execute_result"
    }
   ],
   "source": [
    "function calculateToThirtyTwo() {\n",
    "    let result = (8 * 4) + (16 / 4) - 8;\n",
    "    return result;\n",
    "}\n",
    "\n",
    "console.log(calculateToThirtyTwo());  \n"
   ]
  },
  {
   "cell_type": "markdown",
   "metadata": {},
   "source": [
    "[Popcorn Hack 2](https://www.programiz.com/online-compiler/6I99ycXenbwM9)\n"
   ]
  },
  {
   "cell_type": "markdown",
   "metadata": {},
   "source": [
    "[Popcorn Hack 3](https://www.programiz.com/online-compiler/9FWWsAzue9YxK)"
   ]
  },
  {
   "cell_type": "markdown",
   "metadata": {
    "vscode": {
     "languageId": "raw"
    }
   },
   "source": [
    "\n",
    "Extra Credit:\n",
    "![Image Description](images/image69.png)\n"
   ]
  },
  {
   "cell_type": "markdown",
   "metadata": {},
   "source": [
    "# Homework Hacks"
   ]
  },
  {
   "cell_type": "code",
   "execution_count": 5,
   "metadata": {},
   "outputs": [
    {
     "name": "stdout",
     "output_type": "stream",
     "text": [
      "{ gcd: 6, lcm: 36 }\n"
     ]
    },
    {
     "data": {
      "text/plain": [
       "undefined"
      ]
     },
     "execution_count": 5,
     "metadata": {},
     "output_type": "execute_result"
    }
   ],
   "source": [
    "function computeGcdAndLcm(a, b) {\n",
    "    // Find GCD by starting from 1 and checking all numbers up to the smaller of a or b\n",
    "    let gcd = 1;\n",
    "    \n",
    "    // Use a loop to find the GCD by checking up to the smaller of a and b\n",
    "    for (let i = 1; i <= (a < b ? a : b); i++) {\n",
    "        if (a % i === 0 && b % i === 0) {\n",
    "            gcd = i; // Update gcd if i divides both a and b\n",
    "        }\n",
    "    }\n",
    "\n",
    "    // Find LCM by starting from the larger of a or b and increasing until both are divisible\n",
    "    let lcm = (a > b ? a : b);\n",
    "    while (lcm % a !== 0 || lcm % b !== 0) {\n",
    "        lcm++; // Add until lcm is divisible by both a and b\n",
    "    }\n",
    "\n",
    "    // Return both values as an object\n",
    "    return {\n",
    "        gcd: gcd,\n",
    "        lcm: lcm\n",
    "    };\n",
    "}\n",
    "\n",
    "// Example usage:\n",
    "let gcdLcmResult = computeGcdAndLcm(12, 18);\n",
    "console.log(gcdLcmResult); // { gcd: 6, lcm: 36 }\n"
   ]
  },
  {
   "cell_type": "code",
   "execution_count": 7,
   "metadata": {},
   "outputs": [
    {
     "name": "stdout",
     "output_type": "stream",
     "text": [
      "[ 2, 2, 7 ]\n",
      "[ 13 ]\n"
     ]
    },
    {
     "data": {
      "text/plain": [
       "undefined"
      ]
     },
     "execution_count": 7,
     "metadata": {},
     "output_type": "execute_result"
    }
   ],
   "source": [
    "function getPrimeFactors(n) {\n",
    "    let factors = []; \n",
    "    let index = 0; \n",
    "\n",
    "    // Check for the number of 2s that divide n\n",
    "    while (n % 2 === 0) {\n",
    "        factors[index] = 2; // Add 2 to factors\n",
    "        index++; // Move to the next index\n",
    "        n /= 2; // Divide n by 2\n",
    "    }\n",
    "\n",
    "    // Check for odd factors from 3 onwards\n",
    "    for (let i = 3; i <= Math.sqrt(n); i += 2) {\n",
    "        while (n % i === 0) {\n",
    "            factors[index] = i; // Add i to factors\n",
    "            index++; // Move to the next index\n",
    "            n /= i; // Divide n by i\n",
    "        }\n",
    "    }\n",
    "\n",
    "    // If n is a prime number greater than 2\n",
    "    if (n > 2) {\n",
    "        factors[index] = n; // Add n to factors\n",
    "        index++; // Move to the next index\n",
    "    }\n",
    "\n",
    "    // Slice the array to return only the filled part\n",
    "    return factors.slice(0, index);\n",
    "}\n",
    "\n",
    "// Example usage:\n",
    "console.log(getPrimeFactors(28)); // [2, 2, 7]\n",
    "console.log(getPrimeFactors(13)); // [13]\n"
   ]
  }
 ],
 "metadata": {
  "kernelspec": {
   "display_name": "JavaScript (Node.js)",
   "language": "javascript",
   "name": "javascript"
  },
  "language_info": {
   "file_extension": ".js",
   "mimetype": "application/javascript",
   "name": "javascript",
   "version": "18.19.1"
  }
 },
 "nbformat": 4,
 "nbformat_minor": 2
}
