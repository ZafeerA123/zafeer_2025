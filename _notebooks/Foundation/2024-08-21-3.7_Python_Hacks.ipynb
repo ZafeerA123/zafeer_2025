{
 "cells": [
  {
   "cell_type": "markdown",
   "metadata": {},
   "source": [
    "---\n",
    "layout: post\n",
    "title: Hacks 3.7 Hacks\n",
    "description:  Hacks for Lesson 3.7 python \n",
    "type: issues \n",
    "comments: true\n",
    "permalink: Python_Hacks_3_7\n",
    "---"
   ]
  },
  {
   "cell_type": "markdown",
   "metadata": {},
   "source": [
    "# Popcorn Hack 1"
   ]
  },
  {
   "cell_type": "code",
   "execution_count": 1,
   "metadata": {},
   "outputs": [
    {
     "name": "stdout",
     "output_type": "stream",
     "text": [
      "The weather is sunny\n",
      "Your transportation is available\n",
      "Your boots are not present\n",
      "You need to find your boots first.\n"
     ]
    }
   ],
   "source": [
    "weather = \"sunny\"\n",
    "transportation = \"available\"\n",
    "boots = \"not present\"\n",
    "homework = \"none\"\n",
    "\n",
    "print(\"The weather is \" + weather)\n",
    "print(\"Your transportation is \" + transportation)\n",
    "print(\"Your boots are \" + boots)\n",
    "\n",
    "if homework == \"none\":\n",
    "    if weather == \"sunny\":\n",
    "        if transportation == \"available\":\n",
    "            if boots == \"present\":\n",
    "              print(\"You are ready to go hiking!\")\n",
    "            else:\n",
    "                print(\"You need to find your boots first.\")\n",
    "        else:\n",
    "         print(\"You need to arrange transportation.\")\n",
    "    else:\n",
    "        print(\"It's not good weather for hiking.\")\n",
    "else:\n",
    "   print(\"You need to finish your homework first\")"
   ]
  },
  {
   "cell_type": "markdown",
   "metadata": {},
   "source": [
    "# Popcorn Hack 2"
   ]
  },
  {
   "cell_type": "code",
   "execution_count": 1,
   "metadata": {},
   "outputs": [
    {
     "name": "stdout",
     "output_type": "stream",
     "text": [
      "You're ready to host the movie night!\n",
      "You need to fix or replace the projector.\n",
      "You need to get more snacks. Ideas: Popcorn, Candy, Soda\n",
      "The living room is not available for the movie night. Find another room!\n"
     ]
    }
   ],
   "source": [
    "def can_host_movie_night(living_room_available, projector_working, enough_snacks):\n",
    "    if living_room_available:\n",
    "        if projector_working:\n",
    "            if enough_snacks:\n",
    "                return \"You're ready to host the movie night!\"\n",
    "            else:\n",
    "                return \"You need to get more snacks. Ideas: Popcorn, Candy, Soda\"\n",
    "        else:\n",
    "            return \"You need to fix or replace the projector.\"\n",
    "    else:\n",
    "        return \"The living room is not available for the movie night. Find another room!\"\n",
    "\n",
    "# Test different scenarios\n",
    "print(can_host_movie_night(True, True, True))   # All True\n",
    "print(can_host_movie_night(True, False, True))  # No Projector\n",
    "print(can_host_movie_night(True, True, False))  # Not Enough Snacks\n",
    "print(can_host_movie_night(False, True, True))  # No Living Room\n"
   ]
  },
  {
   "cell_type": "markdown",
   "metadata": {},
   "source": [
    "# Popcorn Hack 3"
   ]
  },
  {
   "cell_type": "code",
   "execution_count": 2,
   "metadata": {},
   "outputs": [
    {
     "name": "stdout",
     "output_type": "stream",
     "text": [
      "You need to fill up the tank first.\n"
     ]
    }
   ],
   "source": [
    "import random\n",
    "\n",
    "# Random: Do you have enough gas? (Random outcome)\n",
    "enough_gas = random.choice([True, False])\n",
    "\n",
    "# Random: Is the weather good? (Random outcome)\n",
    "good_weather = random.choice([True, False])\n",
    "\n",
    "# Random: Did the car pass the check-up? (Random outcome)\n",
    "car_checked = random.choice([True, False])\n",
    "\n",
    "# Integer: Your current budget (Random between $50 and $200)\n",
    "budget = random.randint(50, 200)\n",
    "required_budget = 100  # Assume you need $100 for the trip\n",
    "\n",
    "# Random: Number of gallons of gas (Random between 0 and 15)\n",
    "gas_gallons = random.randint(0, 15)\n",
    "required_gas_gallons = 5  # Assume you need 5 gallons for the trip\n",
    "\n",
    "# Check the conditions using nested conditionals\n",
    "if enough_gas:\n",
    "    print(\"You have enough gas!\")\n",
    "    if gas_gallons >= required_gas_gallons:\n",
    "        print(f\"You have {gas_gallons} gallons of gas, which is enough.\")\n",
    "        if good_weather:\n",
    "            print(\"The weather is good!\")\n",
    "            if car_checked:\n",
    "                print(\"Your car has been checked!\")\n",
    "                if budget >= required_budget:\n",
    "                    print(f\"You're ready for the road trip! You have ${budget}, which is enough.\")\n",
    "                else:\n",
    "                    print(f\"You need more money for the trip. You only have ${budget}, but you need at least ${required_budget}.\")\n",
    "            else:\n",
    "                print(\"You need to get the car checked first.\")\n",
    "        else:\n",
    "            print(\"The weather isn't good for a road trip.\")\n",
    "    else:\n",
    "        print(f\"You don't have enough gas for the trip. You have {gas_gallons} gallons, but you need at least {required_gas_gallons}.\")\n",
    "else:\n",
    "    print(\"You need to fill up the tank first.\")\n"
   ]
  },
  {
   "cell_type": "markdown",
   "metadata": {},
   "source": [
    "# Hack 1 - Python Psuedocode to decide wheter or not to go to the beach"
   ]
  },
  {
   "cell_type": "markdown",
   "metadata": {},
   "source": [
    "# Pseudocode\n",
    "\n",
    "1. Check if the weather is sunny:\n",
    "    a. If it is not sunny, print \"It's not a good day for the beach.\"\n",
    "2. If the weather is sunny, check if you have sunscreen:\n",
    "    a. If you don't have sunscreen, print \"You need to buy sunscreen.\"\n",
    "3. If the weather is sunny and you have sunscreen, check if you have enough snacks:\n",
    "    a. If you don't have enough snacks, print \"You need to get more snacks.\"\n",
    "4. If all conditions are met (sunny, have sunscreen, and have enough snacks):\n",
    "    a. Print \"You are ready for the beach!\"\n"
   ]
  },
  {
   "cell_type": "code",
   "execution_count": 3,
   "metadata": {},
   "outputs": [
    {
     "name": "stdout",
     "output_type": "stream",
     "text": [
      "You are ready for the beach!\n"
     ]
    }
   ],
   "source": [
    "# Define the conditions\n",
    "weather = \"sunny\"  # Example: can be \"sunny\", \"rainy\", etc.\n",
    "has_sunscreen = True  # True if you have sunscreen\n",
    "has_snacks = True  # True if you have enough snacks\n",
    "\n",
    "# Check the conditions\n",
    "if weather == \"sunny\":\n",
    "    if has_sunscreen:\n",
    "        if has_snacks:\n",
    "            print(\"You are ready for the beach!\")\n",
    "        else:\n",
    "            print(\"You need to get some snacks before going to the beach.\")\n",
    "    else:\n",
    "        print(\"You need to buy sunscreen before going to the beach.\")\n",
    "else:\n",
    "    print(\"It's not a good day for the beach.\")\n"
   ]
  },
  {
   "cell_type": "markdown",
   "metadata": {},
   "source": [
    "# Hack 2"
   ]
  },
  {
   "cell_type": "code",
   "execution_count": 4,
   "metadata": {},
   "outputs": [
    {
     "name": "stdout",
     "output_type": "stream",
     "text": [
      "You can adopt the pet!\n"
     ]
    }
   ],
   "source": [
    "# Variables to check the conditions\n",
    "age = 20  # Replace with user's age\n",
    "home_space = 60  # Replace with home space in square feet\n",
    "availability = True  # Replace with availability status (True or False)\n",
    "\n",
    "# Checking the conditions\n",
    "if age < 18:\n",
    "    print(\"You must be at least 18 to adopt a pet.\")\n",
    "elif home_space <= 50:\n",
    "    print(\"You need a bigger home.\")\n",
    "elif not availability:\n",
    "    print(\"You need to make time.\")\n",
    "else:\n",
    "    print(\"You can adopt the pet!\")\n"
   ]
  },
  {
   "cell_type": "markdown",
   "metadata": {},
   "source": [
    "# Hack 3"
   ]
  },
  {
   "cell_type": "code",
   "execution_count": 5,
   "metadata": {},
   "outputs": [
    {
     "name": "stdout",
     "output_type": "stream",
     "text": [
      "You are ready for the marathon!\n"
     ]
    }
   ],
   "source": [
    "# Variables to check the conditions\n",
    "weather = \"clear\"  # Replace with actual weather condition (e.g., \"clear\", \"rainy\", etc.)\n",
    "running_shoes = True  # Replace with user's status (True if they have shoes, False otherwise)\n",
    "practice_days = 12  # Replace with number of practice days\n",
    "\n",
    "# Checking the conditions\n",
    "if weather != \"clear\":\n",
    "    print(\"It's not the right time for the marathon.\")\n",
    "elif not running_shoes:\n",
    "    print(\"You need to buy shoes first.\")\n",
    "elif practice_days < 10:\n",
    "    print(\"You need to practice more.\")\n",
    "else:\n",
    "    print(\"You are ready for the marathon!\")\n"
   ]
  }
 ],
 "metadata": {
  "kernelspec": {
   "display_name": "venv",
   "language": "python",
   "name": "python3"
  },
  "language_info": {
   "codemirror_mode": {
    "name": "ipython",
    "version": 3
   },
   "file_extension": ".py",
   "mimetype": "text/x-python",
   "name": "python",
   "nbconvert_exporter": "python",
   "pygments_lexer": "ipython3",
   "version": "3.12.3"
  }
 },
 "nbformat": 4,
 "nbformat_minor": 2
}
