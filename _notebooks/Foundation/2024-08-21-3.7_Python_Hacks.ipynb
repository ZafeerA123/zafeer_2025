{
 "cells": [
  {
   "cell_type": "markdown",
   "metadata": {},
   "source": [
    "---\n",
    "layout: post\n",
    "title: Hacks 3.7 Hacks\n",
    "description:  Hacks for Lesson 3.7 python \n",
    "type: issues \n",
    "comments: true\n",
    "permalink: Python_Hacks_3_7\n",
    "---"
   ]
  },
  {
   "cell_type": "markdown",
   "metadata": {},
   "source": [
    "# Popcorn Hack 1"
   ]
  },
  {
   "cell_type": "code",
   "execution_count": 1,
   "metadata": {},
   "outputs": [
    {
     "name": "stdout",
     "output_type": "stream",
     "text": [
      "The weather is sunny\n",
      "Your transportation is available\n",
      "Your boots are not present\n",
      "You need to find your boots first.\n"
     ]
    }
   ],
   "source": [
    "weather = \"sunny\"\n",
    "transportation = \"available\"\n",
    "boots = \"not present\"\n",
    "homework = \"none\"\n",
    "\n",
    "print(\"The weather is \" + weather)\n",
    "print(\"Your transportation is \" + transportation)\n",
    "print(\"Your boots are \" + boots)\n",
    "\n",
    "if homework == \"none\":\n",
    "    if weather == \"sunny\":\n",
    "        if transportation == \"available\":\n",
    "            if boots == \"present\":\n",
    "              print(\"You are ready to go hiking!\")\n",
    "            else:\n",
    "                print(\"You need to find your boots first.\")\n",
    "        else:\n",
    "         print(\"You need to arrange transportation.\")\n",
    "    else:\n",
    "        print(\"It's not good weather for hiking.\")\n",
    "else:\n",
    "   print(\"You need to finish your homework first\")"
   ]
  },
  {
   "cell_type": "markdown",
   "metadata": {},
   "source": [
    "# Popcorn Hack 2"
   ]
  },
  {
   "cell_type": "code",
   "execution_count": 2,
   "metadata": {},
   "outputs": [
    {
     "name": "stdout",
     "output_type": "stream",
     "text": [
      "You have enough gas!\n",
      "The weather isn't good for a road trip.\n"
     ]
    }
   ],
   "source": []
  }
 ],
 "metadata": {
  "kernelspec": {
   "display_name": "venv",
   "language": "python",
   "name": "python3"
  },
  "language_info": {
   "codemirror_mode": {
    "name": "ipython",
    "version": 3
   },
   "file_extension": ".py",
   "mimetype": "text/x-python",
   "name": "python",
   "nbconvert_exporter": "python",
   "pygments_lexer": "ipython3",
   "version": "3.12.3"
  }
 },
 "nbformat": 4,
 "nbformat_minor": 2
}
