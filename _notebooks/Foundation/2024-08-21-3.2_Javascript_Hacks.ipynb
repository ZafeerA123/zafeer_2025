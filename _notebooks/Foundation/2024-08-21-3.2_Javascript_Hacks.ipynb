{
 "cells": [
  {
   "cell_type": "markdown",
   "metadata": {},
   "source": [
    "---\n",
    "layout: post\n",
    "title: Javascript Hacks 3.2 data abstraction\n",
    "description:  Javascript Hacks for lesson 3.2 data abstraction\n",
    "type: issues \n",
    "comments: true\n",
    "permalink: Javascript_Hacks_3_2\n",
    "---"
   ]
  },
  {
   "cell_type": "markdown",
   "metadata": {},
   "source": [
    "# Javascript Popcorn Hack 1"
   ]
  },
  {
   "cell_type": "code",
   "execution_count": 2,
   "metadata": {},
   "outputs": [
    {
     "name": "stdout",
     "output_type": "stream",
     "text": [
      "Set1: Set(3) { 1, 2, 3 }\n",
      "Set2: Set(3) { 4, 5, 6 }\n",
      "Set1 after adding 7: Set(4) { 1, 2, 3, 7 }\n",
      "Set1 after removing 1: Set(3) { 2, 3, 7 }\n",
      "Union of Set1 and Set2: Set(6) { 2, 3, 7, 4, 5, 6 }\n"
     ]
    },
    {
     "data": {
      "text/plain": [
       "undefined"
      ]
     },
     "execution_count": 2,
     "metadata": {},
     "output_type": "execute_result"
    }
   ],
   "source": [
    "// Create a set called Set1 of 3 numbers\n",
    "const set1 = new Set([1, 2, 3]);\n",
    "console.log(\"Set1:\", set1);\n",
    "\n",
    "// Create a set called Set2 of different 3 numbers\n",
    "const set2 = new Set([4, 5, 6]);\n",
    "console.log(\"Set2:\", set2);\n",
    "\n",
    "// Add a number to set1\n",
    "set1.add(7);\n",
    "console.log(\"Set1 after adding 7:\", set1);\n",
    "\n",
    "// Remove the 1st number from set1 (in this case, the number 1)\n",
    "set1.delete(1);\n",
    "console.log(\"Set1 after removing 1:\", set1);\n",
    "\n",
    "// Log the union of both Set1 and Set2\n",
    "const unionSet = new Set([...set1, ...set2]);\n",
    "console.log(\"Union of Set1 and Set2:\", unionSet);\n"
   ]
  },
  {
   "cell_type": "markdown",
   "metadata": {},
   "source": [
    "# Javascript Popcorn Hack 2"
   ]
  },
  {
   "cell_type": "code",
   "execution_count": 7,
   "metadata": {},
   "outputs": [
    {
     "name": "stdout",
     "output_type": "stream",
     "text": [
      "Application Dictionary: {\n",
      "  name: 'Zafeer Ahmed',\n",
      "  age: 16,\n",
      "  experiences: [\n",
      "    \"Volunteering Rady's Hospital\",\n",
      "    'Del Norte Soccer Team',\n",
      "    'Active Coder',\n",
      "    'Cooperation/Collaboration'\n",
      "  ],\n",
      "  money: 0\n",
      "}\n",
      "Money: 0\n"
     ]
    },
    {
     "data": {
      "text/plain": [
       "undefined"
      ]
     },
     "execution_count": 7,
     "metadata": {},
     "output_type": "execute_result"
    }
   ],
   "source": [
    "// Create a Dictionary called \"application\"\n",
    "const application = {\n",
    "    name: \"Zafeer Ahmed\",\n",
    "    age: 16,\n",
    "    experiences: [\"Volunteering Rady's Hospital\", \"Del Norte Soccer Team\", \"Active Coder\" , \"Cooperation/Collaboration\"],\n",
    "    money: 0 // Amount in dollars\n",
    "};\n",
    "\n",
    "// Log the dictionary to make sure it works\n",
    "console.log(\"Application Dictionary:\", application);\n",
    "\n",
    "// Log only the dictionary's money\n",
    "console.log(\"Money:\", application.money);\n"
   ]
  },
  {
   "cell_type": "markdown",
   "metadata": {},
   "source": [
    "# Javascript Homework Hack"
   ]
  },
  {
   "cell_type": "code",
   "execution_count": null,
   "metadata": {},
   "outputs": [],
   "source": [
    "// Function to collect information\n",
    "function collectApplicantInfo() {\n",
    "    // Ask the user for their information\n",
    "    const name = prompt(\"What is your name?\");\n",
    "    const age = prompt(\"What is your age?\");\n",
    "    const experiences = prompt(\"Please list your experiences, separated by commas.\");\n",
    "\n",
    "    // Store inputs in a Dictionary (object)\n",
    "    const applicant = {\n",
    "        name: name,\n",
    "        age: parseInt(age), // Convert age to an integer\n",
    "        experiences: experiences.split(\",\").map(exp => exp.trim()) // Split and trim experiences\n",
    "    };\n",
    "\n",
    "    // Log the user's input\n",
    "    console.log(\"Applicant Information:\", applicant);\n",
    "}\n",
    "\n",
    "\n",
    "collectApplicantInfo();\n"
   ]
  },
  {
   "cell_type": "markdown",
   "metadata": {},
   "source": [
    "# Please use the following compiler to try my code from above\n",
    "\n",
    "[Javascript Compiler](https://playcode.io/javascript)\n"
   ]
  }
 ],
 "metadata": {
  "kernelspec": {
   "display_name": "JavaScript (Node.js)",
   "language": "javascript",
   "name": "javascript"
  },
  "language_info": {
   "file_extension": ".js",
   "mimetype": "application/javascript",
   "name": "javascript",
   "version": "18.19.1"
  }
 },
 "nbformat": 4,
 "nbformat_minor": 2
}
