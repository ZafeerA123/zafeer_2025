{
 "cells": [
  {
   "cell_type": "markdown",
   "metadata": {},
   "source": [
    "---\n",
    "layout: post\n",
    "title: Python Hacks 3.2 data abstraction\n",
    "description:  Hacks for lesson 3.2 data abstraction\n",
    "type: issues \n",
    "comments: true\n",
    "permalink: Python_Hacks_3_2\n",
    "---"
   ]
  },
  {
   "cell_type": "markdown",
   "metadata": {},
   "source": [
    "# Python Popcorn Hack 1"
   ]
  },
  {
   "cell_type": "code",
   "execution_count": 1,
   "metadata": {},
   "outputs": [
    {
     "name": "stdout",
     "output_type": "stream",
     "text": [
      "Initial Set: {1, 2, 3, 4, 5}\n",
      "After Adding 6: {1, 2, 3, 4, 5, 6}\n",
      "After Removing 2: {1, 3, 4, 5, 6}\n",
      "Union with {7, 8, 9}: {1, 3, 4, 5, 6, 7, 8, 9}\n",
      "Set after Clearing: set()\n",
      "Set with Duplicates: {1, 2, 3, 4}\n",
      "Length of the Set with Duplicates: 4\n"
     ]
    }
   ],
   "source": [
    "# Step 1: Create a Set\n",
    "my_set = {1, 2, 3, 4, 5}\n",
    "print(\"Initial Set:\", my_set)\n",
    "\n",
    "# Step 2: Add an Element\n",
    "my_set.add(6)\n",
    "print(\"After Adding 6:\", my_set)\n",
    "\n",
    "# Step 3: Remove an Element\n",
    "my_set.remove(2)\n",
    "print(\"After Removing 2:\", my_set)\n",
    "\n",
    "# Step 4: Union of Sets\n",
    "union_set = my_set.union({7, 8, 9})\n",
    "print(\"Union with {7, 8, 9}:\", union_set)\n",
    "\n",
    "# Step 5: Clear the Set\n",
    "my_set.clear()\n",
    "print(\"Set after Clearing:\", my_set)\n",
    "\n",
    "# Bonus: Set with Duplicates and Finding the Length\n",
    "duplicate_set = {1, 2, 2, 3, 3, 4}\n",
    "print(\"Set with Duplicates:\", duplicate_set)\n",
    "print(\"Length of the Set with Duplicates:\", len(duplicate_set))\n"
   ]
  },
  {
   "cell_type": "markdown",
   "metadata": {},
   "source": [
    "# Python Popcorn Hack 2"
   ]
  },
  {
   "cell_type": "code",
   "execution_count": 2,
   "metadata": {},
   "outputs": [
    {
     "name": "stdout",
     "output_type": "stream",
     "text": [
      "Original String: Learning Python is not fun\n",
      "Length of the String: 26\n",
      "Extracted 'Python': Python\n",
      "String in Uppercase: LEARNING PYTHON IS NOT FUN\n",
      "String after Replacement: Learning Python is not good\n",
      "Reversed String: nuf ton si nohtyP gninraeL\n"
     ]
    }
   ],
   "source": [
    "# Step 1: Create a String\n",
    "my_string = \"Learning Python is not fun\"\n",
    "print(\"Original String:\", my_string)\n",
    "\n",
    "# Step 2: String Length\n",
    "string_length = len(my_string)\n",
    "print(\"Length of the String:\", string_length)\n",
    "\n",
    "# Step 3: String Slicing\n",
    "python_slice = my_string[9:15]\n",
    "print(\"Extracted 'Python':\", python_slice)\n",
    "\n",
    "# Step 4: String Uppercase\n",
    "uppercase_string = my_string.upper()\n",
    "print(\"String in Uppercase:\", uppercase_string)\n",
    "\n",
    "# Step 5: String Replace\n",
    "replaced_string = my_string.replace(\"fun\", \"good\")\n",
    "print(\"String after Replacement:\", replaced_string)\n",
    "\n",
    "# Bonus: Reverse the string using slicing\n",
    "reversed_string = my_string[::-1]\n",
    "print(\"Reversed String:\", reversed_string)\n"
   ]
  },
  {
   "cell_type": "markdown",
   "metadata": {},
   "source": [
    "# Python Popcorn Hack 3"
   ]
  },
  {
   "cell_type": "code",
   "execution_count": 3,
   "metadata": {},
   "outputs": [
    {
     "name": "stdout",
     "output_type": "stream",
     "text": [
      "Original List: [3, 5, 7, 9, 11]\n",
      "Third Element: 7\n",
      "List after Modifying Second Element: [3, 6, 7, 9, 11]\n",
      "List after Adding 13: [3, 6, 7, 9, 11, 13]\n",
      "List after Removing 9: [3, 6, 7, 11, 13]\n",
      "List in Descending Order: [13, 11, 7, 6, 3]\n"
     ]
    }
   ],
   "source": [
    "# Step 1: Create a List\n",
    "my_list = [3, 5, 7, 9, 11]\n",
    "print(\"Original List:\", my_list)\n",
    "\n",
    "# Step 2: Access an Element\n",
    "third_element = my_list[2]\n",
    "print(\"Third Element:\", third_element)\n",
    "\n",
    "# Step 3: Modify an Element\n",
    "my_list[1] = 6  # Changing the second element to 6\n",
    "print(\"List after Modifying Second Element:\", my_list)\n",
    "\n",
    "# Step 4: Add an Element\n",
    "my_list.append(13)  # Appending 13 to the list\n",
    "print(\"List after Adding 13:\", my_list)\n",
    "\n",
    "# Step 5: Remove an Element\n",
    "my_list.remove(9)  # Removing the element 9\n",
    "print(\"List after Removing 9:\", my_list)\n",
    "\n",
    "# Bonus: Sort the list in descending order\n",
    "my_list.sort(reverse=True)\n",
    "print(\"List in Descending Order:\", my_list)\n"
   ]
  },
  {
   "cell_type": "markdown",
   "metadata": {},
   "source": [
    "# Python Popcorn Hack 4"
   ]
  },
  {
   "cell_type": "code",
   "execution_count": 4,
   "metadata": {},
   "outputs": [
    {
     "name": "stdout",
     "output_type": "stream",
     "text": [
      "Personal Info Dictionary: {'name': 'Zafeer Ahmed', 'email': 'zafeer10ahmed@gmail.com', 'phone number': '858-246-5992'}\n",
      "My Name is: Zafeer Ahmed\n",
      "Length of the Dictionary: 3\n",
      "Type of the Dictionary: <class 'dict'>\n",
      "\n",
      "Friend's Info:\n",
      "Friend's Name: Noah Harris\n",
      "Friend's Email: Noah-Harris@example.com\n",
      "Friend's Phone Number: 987-654-3210\n"
     ]
    }
   ],
   "source": [
    "# Step 1: Create a Dictionary\n",
    "personal_info = {\n",
    "    \"name\": \"Zafeer Ahmed\",\n",
    "    \"email\": \"zafeer10ahmed@gmail.com\",\n",
    "    \"phone number\": \"858-246-5992\"\n",
    "}\n",
    "\n",
    "# Step 2: Print out the Dictionary\n",
    "print(\"Personal Info Dictionary:\", personal_info)\n",
    "\n",
    "# Step 3: Print out the name from your dictionary\n",
    "print(\"My Name is:\", personal_info[\"name\"])\n",
    "\n",
    "# Step 4: Print the Length\n",
    "print(\"Length of the Dictionary:\", len(personal_info))\n",
    "\n",
    "# Step 5: Print the Type\n",
    "print(\"Type of the Dictionary:\", type(personal_info))\n",
    "\n",
    "# Bonus: Add another dictionary with the same keys and print their values\n",
    "friend_info = {\n",
    "    \"name\": \"Noah Harris\",\n",
    "    \"email\": \"Noah-Harris@example.com\",\n",
    "    \"phone number\": \"987-654-3210\"\n",
    "}\n",
    "\n",
    "print(\"\\nFriend's Info:\")\n",
    "print(\"Friend's Name:\", friend_info[\"name\"])\n",
    "print(\"Friend's Email:\", friend_info[\"email\"])\n",
    "print(\"Friend's Phone Number:\", friend_info[\"phone number\"])\n"
   ]
  },
  {
   "cell_type": "markdown",
   "metadata": {},
   "source": [
    "# Python Homework Hack 1"
   ]
  },
  {
   "cell_type": "code",
   "execution_count": 5,
   "metadata": {},
   "outputs": [
    {
     "name": "stdout",
     "output_type": "stream",
     "text": [
      "Personal Info: {'full_name': 'John Doe', 'years': 25, 'location': 'New York', 'favorite_food': 'Pizza'}\n",
      "Activities List: ['Reading', 'Cycling', 'Gaming']\n",
      "Updated Personal Info with Activities: {'full_name': 'John Doe', 'years': 25, 'location': 'New York', 'favorite_food': 'Pizza', 'activities': ['Reading', 'Cycling', 'Gaming']}\n",
      "Is Cycling available today? True\n",
      "I have 3 activities.\n",
      "Favorite Activities: ('Reading', 'Gaming')\n",
      "Skills Set: {'Public Speaking', 'Python Programming', 'Time Management'}\n",
      "New Skill: None\n",
      "Total Cost to develop activities and skills: $45.0\n"
     ]
    }
   ],
   "source": [
    "# Part 1: Create Personal Info (dict)\n",
    "personal_info = {\n",
    "    \"full_name\": \"John Doe\",\n",
    "    \"years\": 25,\n",
    "    \"location\": \"New York\",\n",
    "    \"favorite_food\": \"Pizza\"\n",
    "}\n",
    "print(\"Personal Info:\", personal_info)\n",
    "\n",
    "# Part 2: Create a List of Activities (list)\n",
    "activities = [\"Reading\", \"Cycling\", \"Gaming\"]\n",
    "print(\"Activities List:\", activities)\n",
    "\n",
    "# Part 3: Add Activities to Personal Info (dict and list)\n",
    "personal_info[\"activities\"] = activities\n",
    "print(\"Updated Personal Info with Activities:\", personal_info)\n",
    "\n",
    "# Part 4: Check Availability of an Activity (bool)\n",
    "activity_available = True  # Let's assume one of your activities is available today\n",
    "print(f\"Is {activities[1]} available today? {activity_available}\")\n",
    "\n",
    "# Part 5: Total Number of Activities (int)\n",
    "total_activities = len(activities)\n",
    "print(f\"I have {total_activities} activities.\")\n",
    "\n",
    "# Part 6: Favorite Activities (tuple)\n",
    "favorite_activities = (activities[0], activities[2])  # Choose two favorite activities\n",
    "print(\"Favorite Activities:\", favorite_activities)\n",
    "\n",
    "# Part 7: Add a New Set of Skills (set)\n",
    "skills = {\"Python Programming\", \"Public Speaking\", \"Time Management\"}\n",
    "print(\"Skills Set:\", skills)\n",
    "\n",
    "# Part 8: Consider a New Skill (NoneType)\n",
    "new_skill = None  # You haven't decided on a new skill yet\n",
    "print(\"New Skill:\", new_skill)\n",
    "\n",
    "# Part 9: Calculate Total Hobby and Skill Cost (float)\n",
    "activity_cost = 5.0  # Each activity costs $5 to pursue\n",
    "skill_cost = 10.0  # Each skill costs $10 to develop\n",
    "total_cost = total_activities * activity_cost + len(skills) * skill_cost\n",
    "print(f\"Total Cost to develop activities and skills: ${total_cost}\")\n"
   ]
  }
 ],
 "metadata": {
  "kernelspec": {
   "display_name": "venv",
   "language": "python",
   "name": "python3"
  },
  "language_info": {
   "codemirror_mode": {
    "name": "ipython",
    "version": 3
   },
   "file_extension": ".py",
   "mimetype": "text/x-python",
   "name": "python",
   "nbconvert_exporter": "python",
   "pygments_lexer": "ipython3",
   "version": "3.12.3"
  }
 },
 "nbformat": 4,
 "nbformat_minor": 2
}
