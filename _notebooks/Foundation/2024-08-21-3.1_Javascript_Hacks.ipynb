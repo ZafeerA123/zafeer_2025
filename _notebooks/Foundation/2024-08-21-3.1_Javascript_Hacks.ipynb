{
 "cells": [
  {
   "cell_type": "markdown",
   "metadata": {},
   "source": [
    "---\n",
    "layout: post\n",
    "title: Javascript Hacks 3.1 Variables\n",
    "description:  Hacks for lesson 3.1 Javascript\n",
    "type: issues \n",
    "comments: true\n",
    "permalink: Javascript_Hacks_3_1\n",
    "---"
   ]
  },
  {
   "cell_type": "markdown",
   "metadata": {},
   "source": [
    "# Popcorn Hack 1\n",
    "Update an object declared using const correctly"
   ]
  },
  {
   "cell_type": "code",
   "execution_count": 2,
   "metadata": {},
   "outputs": [
    {
     "name": "stdout",
     "output_type": "stream",
     "text": [
      "{ name: 'Apple', color: 'Green', taste: 'Sweet', quantity: 10 }\n"
     ]
    },
    {
     "data": {
      "text/plain": [
       "undefined"
      ]
     },
     "execution_count": 2,
     "metadata": {},
     "output_type": "execute_result"
    }
   ],
   "source": [
    "// Declare an object using const\n",
    "const fruit = {\n",
    "    name: \"Apple\",\n",
    "    color: \"Red\",\n",
    "    taste: \"Sweet\"\n",
    "};\n",
    "\n",
    "\n",
    "fruit.color = \"Green\"; \n",
    "fruit.quantity = 10;   // Add a new property\n",
    "\n",
    "// Output the updated object\n",
    "console.log(fruit);\n"
   ]
  },
  {
   "cell_type": "markdown",
   "metadata": {},
   "source": [
    "# Hack 1\n",
    "Define variables automatically using let and const.\n",
    "Write console.log() statements and demonstrate knowledge of accessing the console correctly\n",
    "Short function that correctly calls each variable and string them together to make a sentence.\n",
    "Make sure to follow camelCase\n",
    "Create code cells to declare, or define, your variables and variable types\n",
    "Use comments to explain your code\n",
    "Use console.log statements to view the values of your variables"
   ]
  },
  {
   "cell_type": "code",
   "execution_count": 21,
   "metadata": {},
   "outputs": [
    {
     "name": "stdout",
     "output_type": "stream",
     "text": [
      "Country: Japan\n",
      "Population: 126.3 million\n",
      "Famous for: technology and anime\n",
      "City: Tokyo\n",
      "Language: Japanese\n",
      "Italy is known for its Pizza and Cars. Its capital city is Rome where most people speak Italian. The population is about 58.4 million.\n"
     ]
    },
    {
     "data": {
      "text/plain": [
       "undefined"
      ]
     },
     "execution_count": 21,
     "metadata": {},
     "output_type": "execute_result"
    }
   ],
   "source": [
    "// Declare variables using let and const\n",
    "\n",
    "const countryname = \"Italy\";  \n",
    "const populationof = 58.4;   \n",
    "const Famousfor = \"Pizza and Cars\"; \n",
    "\n",
    "// Using let for variables that might change or be reassigned later\n",
    "let cityName = \"Rome\";        \n",
    "let languageSpoken = \"Italian\";  \n",
    "\n",
    "// Use console.log statements to view the values of variables\n",
    "console.log(\"Country:\", country);\n",
    "console.log(\"Population:\", population, \"million\");\n",
    "console.log(\"Famous for:\", famousFor);\n",
    "console.log(\"City:\", city);\n",
    "console.log(\"Language:\", language);\n",
    "\n",
    "// Function that creates a sentence using the variables\n",
    "function describePlace() {\n",
    "    // String together the variables to form a sentence\n",
    "    let descriptionOf = countryname + \" is known for its \" + Famousfor + \". \" +\n",
    "                      \"Its capital city is \" + cityName + \" where most people speak \" + languageSpoken + \".\" +\n",
    "                      \" The population is about \" + populationof + \" million.\";\n",
    "    console.log(descriptionOf);\n",
    "}\n",
    "\n",
    "// Call the function to display the description in the console\n",
    "describePlace();\n"
   ]
  },
  {
   "cell_type": "markdown",
   "metadata": {},
   "source": [
    "# Popcorn Hack 2\n",
    "Create your own array using two or more diffrent data types we throughout the lesson!"
   ]
  },
  {
   "cell_type": "code",
   "execution_count": 25,
   "metadata": {},
   "outputs": [
    {
     "name": "stdout",
     "output_type": "stream",
     "text": [
      "Array:  [ 'Blue', 'Yellow', 'Red', 'Green' ]\n",
      "Length of the first color:  4\n",
      "The colors stated above are primary:  true\n"
     ]
    },
    {
     "data": {
      "text/plain": [
       "undefined"
      ]
     },
     "execution_count": 25,
     "metadata": {},
     "output_type": "execute_result"
    }
   ],
   "source": [
    "// Create an array of strings (colors) and log it to the console!\n",
    "let ColorName = [\"Blue\", \"Yellow\", \"Red\", \"Green\"];\n",
    "let Primary = true;\n",
    "\n",
    "console.log(\"Array: \", ColorName);\n",
    "\n",
    "// Get the length of the first color\n",
    "let firstColorLength = ColorName[0].length;\n",
    "\n",
    "console.log(\"Length of the first color: \", firstColorLength);\n",
    "\n",
    "if (Primary === true) {\n",
    "    console.log(\"The colors stated above are primary: \", Primary);\n",
    "}\n"
   ]
  },
  {
   "cell_type": "markdown",
   "metadata": {},
   "source": [
    "# Hack 2\n",
    "Create a average grade calculator using integers and addition. input scores as variables, add them together, and average them out. Using that data create an array of student info (ex: name/age) and average grade.\n",
    "\n",
    "choose either Js (using an array/object) or python (using a list)\n",
    "Use comments to explain your code and thought process.\n",
    "log your work/print with console\n"
   ]
  },
  {
   "cell_type": "code",
   "execution_count": 32,
   "metadata": {},
   "outputs": [
    {
     "name": "stdout",
     "output_type": "stream",
     "text": [
      "Name: Zafeer, Age: 16, Average Score: 84.33\n",
      "Name: Noah, Age: 16, Average Score: 78.33\n",
      "Name: James, Age: 15, Average Score: 82.33\n"
     ]
    },
    {
     "data": {
      "text/plain": [
       "undefined"
      ]
     },
     "execution_count": 32,
     "metadata": {},
     "output_type": "execute_result"
    }
   ],
   "source": [
    "const classmates = [\n",
    "    { fullName: \"Zafeer\", years: 16, grades: [85, 90, 78] },\n",
    "    { fullName: \"Noah\", years: 16, grades: [70, 75, 90] },\n",
    "    { fullName: \"James\", years: 15, grades: [100, 80, 67] }\n",
    "];\n",
    "\n",
    "function computeAverage(grades) {\n",
    "    let total = 0;\n",
    "\n",
    "    // Loop to calculate total score\n",
    "    for (let grade of grades) {\n",
    "        total += grade;\n",
    "    }\n",
    "\n",
    "    // Return the average\n",
    "    return total / grades.length;\n",
    "}\n",
    "\n",
    "for (let classmate of classmates) {\n",
    "    let averageScore = computeAverage(classmate.grades); \n",
    "\n",
    "    // Round the average to two decimal places\n",
    "    let roundedAverage = Math.round(averageScore * 100) / 100; \n",
    "\n",
    "    // Print the classmate information\n",
    "    console.log(\"Name: \" + classmate.fullName + \", Age: \" + classmate.years + \", Average Score: \" + roundedAverage);\n",
    "}\n"
   ]
  }
 ],
 "metadata": {
  "kernelspec": {
   "display_name": "JavaScript (Node.js)",
   "language": "javascript",
   "name": "javascript"
  },
  "language_info": {
   "file_extension": ".js",
   "mimetype": "application/javascript",
   "name": "javascript",
   "version": "18.19.1"
  }
 },
 "nbformat": 4,
 "nbformat_minor": 2
}
